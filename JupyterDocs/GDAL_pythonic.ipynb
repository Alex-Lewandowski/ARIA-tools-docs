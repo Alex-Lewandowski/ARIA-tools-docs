{
 "cells": [
  {
   "cell_type": "code",
   "execution_count": 7,
   "metadata": {},
   "outputs": [],
   "source": [
    "##https://www.linkedin.com/pulse/convert-netcdf4-file-geotiff-using-python-chonghua-yin\n",
    "from osgeo import gdal, osr, gdal_array\n",
    "# import xarray as xr\n",
    "import numpy as np\n",
    "\n",
    "def GetnetCDFInfobyName(in_filename, var_name):\n",
    "    '''\n",
    "    Function to read netCDF data info\n",
    "    '''\n",
    "    \n",
    "    #Open netCDF file\n",
    "    src_ds = gdal.Open(in_filename)\n",
    "    if src_ds is None:\n",
    "        print('Open failed')\n",
    "        sys.exit()\n",
    "    else:\n",
    "        \n",
    "        #if more than one sub-dataset exists in the netCDF\n",
    "        subdataset = 'NETCDF:\"'+in_filename+'\":/science/grids/data/'+var_name\n",
    "        src_ds_sd = gdal.Open(subdataset)\n",
    "        \n",
    "        #begin reading the subdataset\n",
    "        NDV = src_ds_sd.GetRasterBand(1).GetNoDataValue()\n",
    "        xsize = src_ds_sd.RasterXSize\n",
    "        ysize = src_ds_sd.RasterYSize\n",
    "        GeoT = src_ds_sd.GetGeoTransform()\n",
    "        Projection = osr.SpatialReference()\n",
    "        Projection.ImportFromWkt(src_ds_sd.GetProjectionRef())\n",
    "        data = src_ds_sd.GetRasterBand(1).ReadAsArray()\n",
    "        #close the dataset and file\n",
    "        src_ds_sd = None\n",
    "        src_ds = None\n",
    "        \n",
    "        #read data using xarray\n",
    "#         xr_ensemble = xr.open_dataset(in_filename)\n",
    "#         data = xr_ensemble[var_name]\n",
    "#         data = np.ma.masked_array(data, mask=data==NDV, fill_value=NDV)\n",
    "        \n",
    "        \n",
    "        return NDV,xsize,ysize,GeoT,Projection,data\n",
    "    \n",
    "def saveGDALfile(new_filename,Array,NDV,xsize,ysize,GeoT,Projection,file_format):\n",
    "    '''\n",
    "    Create new file using GDAL\n",
    "    '''\n",
    "    \n",
    "    DataType = gdal_array.NumericTypeCodeToGDALTypeCode(Array.dtype)\n",
    "    \n",
    "    if type(DataType)!=np.int:\n",
    "        if DataType.startswith('gdal.GDT_') == False:\n",
    "            DataType = eval('gdal.GDT_'+DataType)\n",
    "            \n",
    "    NewFileName = new_filename\n",
    "#    zsize = Array.shape[0]\n",
    "    \n",
    "    #Create a driver\n",
    "    driver = gdal.GetDriverByName(file_format)\n",
    "    \n",
    "    #Set NaN to original No Data Value\n",
    "    Array[np.isnan(Array)] = NDV\n",
    "    \n",
    "    #Create the dataset with zsize bands\n",
    "    Dataset = driver.Create(NewFileName,xsize,ysize,1,DataType)\n",
    "    Dataset.SetGeoTransform(GeoT)\n",
    "    Dataset.SetProjection(Projection.ExportToWkt())\n",
    "    Dataset.GetRasterBand(1).WriteArray(Array)\n",
    "\n",
    "    #Write each slice of the array along the zsize\n",
    "#     for i in range(0,zsize):\n",
    "#         Dataset.GetRasterBand(i+1).WriteArray(Array[i])\n",
    "#         Dataset.GetRasterBand(i+1).SetNoDataValue(NDV)\n",
    "        \n",
    "    Dataset.FlushCache()\n",
    "    \n",
    "    return NewFileName\n",
    "        \n",
    "        "
   ]
  },
  {
   "cell_type": "code",
   "execution_count": 12,
   "metadata": {},
   "outputs": [],
   "source": [
    "infile = 'S1-GUNW-A-R-077-tops-20190222_20190210-231605-42666N_40796N-PP-d75b-v2_0_1.nc'\n",
    "varname = 'unwrappedPhase'\n",
    "\n",
    "NDV,xsize,ysize,GeoT,Projection,data = GetnetCDFInfobyName(infile, varname)\n",
    "outfile = saveGDALfile('unwrappedPhase.dat', data, NDV,xsize,ysize,GeoT,Projection,'ENVI')"
   ]
  },
  {
   "cell_type": "code",
   "execution_count": 10,
   "metadata": {},
   "outputs": [
    {
     "data": {
      "text/plain": [
       "'Driver: ENVI/ENVI .hdr Labelled\\nFiles: unwrappedPhase.dat\\n       unwrappedPhase.hdr\\nSize is 4232, 2246\\nCoordinate System is:\\nGEOGCRS[\"GCS_unknown\",\\n    DATUM[\"D_unnamed\",\\n        ELLIPSOID[\"Spheroid\",6378137,298.257223563,\\n            LENGTHUNIT[\"metre\",1,\\n                ID[\"EPSG\",9001]]]],\\n    PRIMEM[\"Greenwich\",0,\\n        ANGLEUNIT[\"Degree\",0.0174532925199433]],\\n    CS[ellipsoidal,2],\\n        AXIS[\"longitude\",east,\\n            ORDER[1],\\n            ANGLEUNIT[\"Degree\",0.0174532925199433]],\\n        AXIS[\"latitude\",north,\\n            ORDER[2],\\n            ANGLEUNIT[\"Degree\",0.0174532925199433]]]\\nData axis to CRS axis mapping: 1,2\\nOrigin = (-81.866249999999994,42.667083333333402)\\nPixel Size = (0.000833333333333,-0.000833333333333)\\nMetadata:\\n  Band_1=Band 1\\nImage Structure Metadata:\\n  INTERLEAVE=BAND\\nCorner Coordinates:\\nUpper Left  ( -81.8662500,  42.6670833) ( 81d51\\'58.50\"W, 42d40\\' 1.50\"N)\\nLower Left  ( -81.8662500,  40.7954167) ( 81d51\\'58.50\"W, 40d47\\'43.50\"N)\\nUpper Right ( -78.3395833,  42.6670833) ( 78d20\\'22.50\"W, 42d40\\' 1.50\"N)\\nLower Right ( -78.3395833,  40.7954167) ( 78d20\\'22.50\"W, 40d47\\'43.50\"N)\\nCenter      ( -80.1029167,  41.7312500) ( 80d 6\\'10.50\"W, 41d43\\'52.50\"N)\\nBand 1 Block=4232x1 Type=Float32, ColorInterp=Undefined\\n  Description = Band 1\\n'"
      ]
     },
     "execution_count": 10,
     "metadata": {},
     "output_type": "execute_result"
    }
   ],
   "source": [
    "gdal.Info('unwrappedPhase.dat')"
   ]
  },
  {
   "cell_type": "code",
   "execution_count": null,
   "metadata": {},
   "outputs": [],
   "source": []
  }
 ],
 "metadata": {
  "kernelspec": {
   "display_name": "Python 3",
   "language": "python",
   "name": "python3"
  },
  "language_info": {
   "codemirror_mode": {
    "name": "ipython",
    "version": 3
   },
   "file_extension": ".py",
   "mimetype": "text/x-python",
   "name": "python",
   "nbconvert_exporter": "python",
   "pygments_lexer": "ipython3",
   "version": "3.7.1"
  }
 },
 "nbformat": 4,
 "nbformat_minor": 2
}
