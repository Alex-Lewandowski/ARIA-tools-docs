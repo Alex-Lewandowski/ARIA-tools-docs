{
 "cells": [
  {
   "cell_type": "markdown",
   "metadata": {},
   "source": [
    "# Plotting quality control and baseline figures of the spatio-temporal network\n",
    "This notebook is intended to demonstrate the capabilities of productPlot tool. We are going to use the data given in our data folder and generate figures to assess the spatio-temporal network properties and quality of our ARIA products samples.\n",
    "\n",
    "In this notebook we are going to go work on:\n",
    "- Qualitative Plots\n",
    "  - Perpendicular baseline - Time plot\n",
    "  - Coherence - Time plot\n",
    "- Coverage plots\n",
    "  - Lat extent"
   ]
  },
  {
   "cell_type": "markdown",
   "metadata": {},
   "source": [
    "## 0. Initial setup of the notebook\n",
    "The cell below performs initial setup of the notebook and must be run every time the notebook is used. It loads the required modules into our python environment and using ***import*** command. It is possible to partially complete the exercise, close the notebook, and come back and continue later from that point, but this initialization must be re-run before restarting."
   ]
  },
  {
   "cell_type": "code",
   "execution_count": 1,
   "metadata": {},
   "outputs": [],
   "source": [
    "import os, sys\n",
    "import subprocess\n",
    "import matplotlib.pyplot as plt"
   ]
  },
  {
   "cell_type": "markdown",
   "metadata": {},
   "source": [
    "### 0.1. Details of help\n",
    "We can print out help and usage of the tool using the command shown in the cell below. The tags which can be used and what they are used for is explanied in the output."
   ]
  },
  {
   "cell_type": "code",
   "execution_count": 2,
   "metadata": {},
   "outputs": [
    {
     "name": "stdout",
     "output_type": "stream",
     "text": [
      "usage: productPlot.py [-h] -f IMGFILE [-w WORKDIR] [-b BBOX] [-m MASK]\n",
      "                      [-croptounion] [-plottracks] [-plotbperp]\n",
      "                      [-plotbperpcoh] [-plotcoh] [-makeavgoh] [-plotall]\n",
      "                      [-verbose]\n",
      "\n",
      "Function to generate various quality control and baseline figures of the\n",
      "spatial-temporal network of products.\n",
      "\n",
      "optional arguments:\n",
      "  -h, --help            show this help message and exit\n",
      "  -f IMGFILE, --file IMGFILE\n",
      "                        ARIA file\n",
      "  -w WORKDIR, --workdir WORKDIR\n",
      "                        Specify directory to deposit all outputs. Default is\n",
      "                        local directory where script is launched.\n",
      "  -b BBOX, --bbox BBOX  Provide either valid shapefile or Lat/Lon Bounding\n",
      "                        SNWE. -- Example : '19 20 -99.5 -98.5'\n",
      "  -m MASK, --mask MASK  Mask file. This file needs to be GDAL compatible and\n",
      "                        contains projection information its meta-data.\n",
      "  -croptounion, --croptounion\n",
      "                        If turned on, IFGs cropped to bounds based off of\n",
      "                        union and bbox (if specified). Program defaults to\n",
      "                        crop all IFGs to bounds based off of common\n",
      "                        intersection and bbox (if specified).\n",
      "  -plottracks, --plottracks\n",
      "                        Make plot of track latitude extents vs bounding\n",
      "                        bbox/common track extent.\n",
      "  -plotbperp, --plotbperp\n",
      "                        Make a baseline plot, and a histogram of perpendicular\n",
      "                        baseline.\n",
      "  -plotbperpcoh, --plotbperpcoh\n",
      "                        Make a baseline plot that is color-coded based on\n",
      "                        average IFG coherence.\n",
      "  -plotcoh, --plotcoh   Make an average IFG coherence plot in time, and\n",
      "                        histogram of IFG average coherence.\n",
      "  -makeavgoh, --makeavgoh\n",
      "                        Generate a 2D raster of average IFG coherence.\n",
      "  -plotall, --plotall   Generate all above plots.\n",
      "  -verbose, --verbose   Toggle verbose mode on.\n"
     ]
    }
   ],
   "source": [
    "!productPlot.py -h"
   ]
  },
  {
   "cell_type": "markdown",
   "metadata": {},
   "source": [
    "### 0.2. Input and output standards\n",
    "The cell below is showing the usage of input and output tags. -f/--file tag is the only required tag. The command will create an empty folder with the name \"outdir\" in your working directory. You can change the name and location of the folder as needed."
   ]
  },
  {
   "cell_type": "code",
   "execution_count": 3,
   "metadata": {},
   "outputs": [
    {
     "name": "stdout",
     "output_type": "stream",
     "text": [
      "***Plotting Function:***\n",
      "All 1 input files successfully passed!\n",
      "Group spatiotemporally continuous IFGs.\n",
      "\n",
      "All 1 input files successfully passed!\n"
     ]
    }
   ],
   "source": [
    "!productPlot.py -f ./data/S1-GUNW-A-R-077-tops-20190222_20190210-231605-42666N_40796N-PP-d75b-v2_0_1.nc -w ./outdir"
   ]
  },
  {
   "cell_type": "markdown",
   "metadata": {},
   "source": [
    "## 1. Qualitative Plots\n",
    "### 1.1. Baseline Plots\n",
    "We can analyze the quality of ARIA products by examining their baseline and coherence information. productPlot.py allows us to visualize this information from the product directly."
   ]
  },
  {
   "cell_type": "code",
   "execution_count": 4,
   "metadata": {},
   "outputs": [
    {
     "name": "stdout",
     "output_type": "stream",
     "text": [
      "***Plotting Function:***\n",
      "All 1 input files successfully passed!\n",
      "Group spatiotemporally continuous IFGs.\n",
      "\n",
      "All 1 input files successfully passed!\n",
      "- Make baseline plot and histogram.\n"
     ]
    }
   ],
   "source": [
    "!productPlot.py -f ./data/S1-GUNW-A-R-077-tops-20190222_20190210-231605-42666N_40796N-PP-d75b-v2_0_1.nc -w ./outdir -plotbperp"
   ]
  },
  {
   "cell_type": "markdown",
   "metadata": {},
   "source": [
    "The output of the command above produces two figures in your workdir. The first figure is called **bperp_histogram.eps** and shows the distribution of perpendicular baselines with respect to number of interferograms. This figure allows us to visualize the distribtuion of perpendicular baselines in your data set, or a single product as in this case\n",
    "\n",
    "<img src=\"support_docs/bperp_histogram.png\" alt=\"Histogram\" width=\"700\">"
   ]
  },
  {
   "cell_type": "markdown",
   "metadata": {},
   "source": [
    "The second figure we produced is perpendicular baseline vs time plot with the name **bperp_plot.eps**. This plot visualizes the interferometric pairs with respect to their perpendicular baselines.\n",
    "\n",
    "<img src=\"support_docs/bperp_plot.png\" alt=\"Baseline\" width=\"1000\">\n"
   ]
  },
  {
   "cell_type": "markdown",
   "metadata": {},
   "source": [
    "We can use the same command on multiple ARIA products as seen below"
   ]
  },
  {
   "cell_type": "code",
   "execution_count": 8,
   "metadata": {},
   "outputs": [
    {
     "name": "stdout",
     "output_type": "stream",
     "text": [
      "***Plotting Function:***\n",
      "All 10 input files successfully passed!\n",
      "Group spatiotemporally continuous IFGs.\n",
      "\n",
      "All 10 input files successfully passed!\n",
      "- Make baseline plot and histogram.\n",
      "Baseline plot warning!\n",
      "Design matrix is rank deficient. Network is disconnected.\n",
      "Using a fully connected network is recommended.\n"
     ]
    }
   ],
   "source": [
    "!productPlot.py -f './data/*.nc' -w ./outdir -plotbperp"
   ]
  },
  {
   "cell_type": "markdown",
   "metadata": {},
   "source": [
    "The resulting histogram of the randomly selected sample data set can be seen below.\n",
    "\n",
    "<img src=\"support_docs/bperp_histogram_multi.png\" alt=\"Histogram\" width=\"700\">"
   ]
  },
  {
   "cell_type": "markdown",
   "metadata": {},
   "source": [
    "Perpnedicular baseline vs Time plot shows us the acquisition dates and perpendicular baseline relations of interferograms.\n",
    "<img src=\"support_docs/bperp_plot_multi.png\" alt=\"Baseline\" width=\"1000\" class=\"center\">\n"
   ]
  },
  {
   "cell_type": "markdown",
   "metadata": {},
   "source": [
    "However, regular perpendicular baseline vs time plot doesn't give us a lot of information about the quality of our interferograms. We can use coherence information along with perpendicular baselines and have a better understanding of the quality of ARIA products in our data set. The cell below is going to produce the perpendicular baseline vs time plot and use color code the lines which are representing interferograms with respect to their average coherence.\n",
    "\n",
    "**Note:** We need to include -croptounion option because our data set has no common, overlapping, area."
   ]
  },
  {
   "cell_type": "code",
   "execution_count": 6,
   "metadata": {},
   "outputs": [
    {
     "name": "stdout",
     "output_type": "stream",
     "text": [
      "***Plotting Function:***\n",
      "All 10 input files successfully passed!\n",
      "Group spatiotemporally continuous IFGs.\n",
      "\n",
      "All 10 input files successfully passed!\n",
      "- Make baseline plot that is color-coded with respect to mean IFG coherence.\n",
      "Baseline plot warning!\n",
      "Design matrix is rank deficient. Network is disconnected.\n",
      "Using a fully connected network is recommended.\n"
     ]
    }
   ],
   "source": [
    "!productPlot.py -f './data/*.nc' -w ./outdir -plotbperpcoh -croptounion"
   ]
  },
  {
   "cell_type": "markdown",
   "metadata": {},
   "source": [
    "<img src=\"support_docs/bperp_plot_multi_color.png\" alt=\"Baseline\" width=\"1000\">"
   ]
  },
  {
   "cell_type": "markdown",
   "metadata": {},
   "source": [
    "### 1.2. Coherence Plots\n",
    "\n",
    "productPlot.py can be used to visualize coherence information of single or stacks of interferograms. The cell below produces plots such as number of interferograms vs average coherence and average coherence vs time."
   ]
  },
  {
   "cell_type": "code",
   "execution_count": 7,
   "metadata": {},
   "outputs": [
    {
     "name": "stdout",
     "output_type": "stream",
     "text": [
      "***Plotting Function:***\n",
      "All 1 input files successfully passed!\n",
      "Group spatiotemporally continuous IFGs.\n",
      "\n",
      "All 1 input files successfully passed!\n",
      "- Make average IFG coherence plot in time, and histogram of average IFG coherence.\n"
     ]
    }
   ],
   "source": [
    "!productPlot.py -f ./data/S1-GUNW-A-R-077-tops-20190222_20190210-231605-42666N_40796N-PP-d75b-v2_0_1.nc -w ./outdir -plotcoh"
   ]
  },
  {
   "cell_type": "markdown",
   "metadata": {},
   "source": [
    "<img src=\"support_docs/avgcoherence_histogram.png\" alt=\"Histogram\" width=\"700\">"
   ]
  },
  {
   "cell_type": "markdown",
   "metadata": {},
   "source": [
    "<img src=\"support_docs/avgcoherence_plot.png\" alt=\"Avearge Coherence\" width=\"1000\">\n"
   ]
  },
  {
   "cell_type": "markdown",
   "metadata": {},
   "source": [
    "The cell below shows how to use our tool with a multiple ARIA products. Again, we need to pass -croptounion tag since we don't have a common area between the products in our data set."
   ]
  },
  {
   "cell_type": "code",
   "execution_count": 8,
   "metadata": {},
   "outputs": [
    {
     "name": "stdout",
     "output_type": "stream",
     "text": [
      "***Plotting Function:***\n",
      "All 10 input files successfully passed!\n",
      "Group spatiotemporally continuous IFGs.\n",
      "\n",
      "All 10 input files successfully passed!\n",
      "- Make average IFG coherence plot in time, and histogram of average IFG coherence.\n"
     ]
    }
   ],
   "source": [
    "!productPlot.py -f './data/*.nc' -w ./outdir -plotcoh -croptounion"
   ]
  },
  {
   "cell_type": "markdown",
   "metadata": {},
   "source": [
    "<img src=\"support_docs/avgcoherence_histogram_multi.png\" alt=\"Histogram\" width=\"700\">"
   ]
  },
  {
   "cell_type": "markdown",
   "metadata": {},
   "source": [
    "<img src=\"support_docs/avgcoherence_plot_multi.png\" alt=\"Avearge Coherence\" width=\"1000\">"
   ]
  },
  {
   "cell_type": "markdown",
   "metadata": {},
   "source": [
    "## 2. Coverage Plots\n",
    "We can produce coverage plots using -plottracks tag to visualize the latitude extents of each interferogram in our dataset.  "
   ]
  },
  {
   "cell_type": "code",
   "execution_count": 17,
   "metadata": {},
   "outputs": [
    {
     "name": "stdout",
     "output_type": "stream",
     "text": [
      "***Plotting Function:***\n",
      "All 10 input files successfully passed!\n",
      "Group spatiotemporally continuous IFGs.\n",
      "\n",
      "All 10 input files successfully passed!\n",
      "- Make plot of track latitude extents vs bounding bbox/common track extent.\n"
     ]
    }
   ],
   "source": [
    "!productPlot.py -f 'data/*.nc' -w outdir -plottracks -croptounion"
   ]
  },
  {
   "cell_type": "markdown",
   "metadata": {},
   "source": [
    "<img src=\"support_docs/lat_extents.png\" alt=\"Latitude Extents\" width=\"1000\">"
   ]
  }
 ],
 "metadata": {
  "kernelspec": {
   "display_name": "Python 3",
   "language": "python",
   "name": "python3"
  },
  "language_info": {
   "codemirror_mode": {
    "name": "ipython",
    "version": 3
   },
   "file_extension": ".py",
   "mimetype": "text/x-python",
   "name": "python",
   "nbconvert_exporter": "python",
   "pygments_lexer": "ipython3",
   "version": "3.7.3"
  }
 },
 "nbformat": 4,
 "nbformat_minor": 2
}
