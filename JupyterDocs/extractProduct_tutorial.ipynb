{
 "cells": [
  {
   "cell_type": "markdown",
   "metadata": {},
   "source": [
    "# Extracting Layers from ARIA standard GUNW products\n",
    "\n",
    "**Author**: Emre Havazli, David Bekaert, Brett A. Buzzanga - Jet Propulsion Laboratory\n",
    "\n",
    "This notebook is intended for the extraction of data, specifically:\n",
    "- unwrappedPhase, coherence, amplitude, bPerpendicular, bParallel, incidenceAngle, lookAngle, azimuthAngle\n",
    "- product bounding box, \n",
    "\n",
    "It is also capable of:\n",
    "- merging products\n",
    "- downloading DEM\n",
    "\n",
    "To illustrate the usage of extractProduct.py we will use data from ARIA system covering eastern United States between Cleveland, OH and Buffalo, NY with northern parts of the frame over Lake Erie."
   ]
  },
  {
   "cell_type": "markdown",
   "metadata": {},
   "source": [
    "## 0. Initial setup of the notebook"
   ]
  },
  {
   "cell_type": "markdown",
   "metadata": {},
   "source": [
    "The cell below performs initial setup of the notebook and must be run every time the notebook is used. It loads the required modules into our python environment and using ***import*** command. You must add the path to the ARIA-tools to your path, if they are not already there. It is possible to partially complete the exercise, close the notebook, and come back and continue later from that point, but this initialization must be re-run before restarting."
   ]
  },
  {
   "cell_type": "code",
   "execution_count": 57,
   "metadata": {},
   "outputs": [],
   "source": [
    "import os\n",
    "from subprocess import run\n",
    "import numpy as np\n",
    "import matplotlib.pyplot as plt\n",
    "\n",
    "## add the aria tools to your path\n",
    "path_tools = os.path.join('tools', 'python')\n",
    "os.sys.path.append(path_tools)\n",
    "os.environ[\"PATH\"] += os.pathsep + path_tools"
   ]
  },
  {
   "cell_type": "markdown",
   "metadata": {},
   "source": [
    "## 1. Extract Orbital Information\n"
   ]
  },
  {
   "cell_type": "markdown",
   "metadata": {},
   "source": [
    "### 1.1. Download DEM\n",
    "First we will need to download the digital elevation model (DEM) to use for subsequent analysis\n",
    "We provide the data as **fileName**, and the location to save to -w **dest** (it will be created if it does not exist).\n",
    "Since a layer is required, we extract the perpendicular baseline "
   ]
  },
  {
   "cell_type": "code",
   "execution_count": 59,
   "metadata": {},
   "outputs": [
    {
     "name": "stdout",
     "output_type": "stream",
     "text": [
      "Running extractProduct.py -f data/S1-GUNW-A-R-077-tops-20190222_20190210-231605-42666N_40796N-PP-d75b-v2_0_1.nc --layers 'bPerpendicular' -w ./res --demfile=Download\n",
      "########################################\n",
      "class 'Aria_standardproduct': sort input file(s) by starting time\n",
      "if user bbox was specified, file(s) not meeting imposed spatial criteria are rejected.\n",
      "\n",
      "Outputs = arrays ['standardproduct_info.products'] containing grouped “radarmetadata info” and “data layer keys+paths” dictionaries for each standard product + path to bbox file ['standardproduct_info.bbox_file'] (if bbox specified).\n",
      "\n",
      "All 1 input files successfully passed!\n",
      "Group spatiotemporally continuous IFGs.\n",
      "\n",
      "All 1 input files successfully passed!\n",
      "\n",
      "\n",
      "########################################\n",
      "fn 'merged_productbbox': extract/merge productBoundingBox layers for each pair and update dict, report common track bbox (default is to take common intersection, but user may specify union), and expected shape for DEM.\n",
      "\n",
      "\n",
      "\n",
      "########################################\n",
      "fn 'prep_dem': Pass DEM-filename, loaded DEM array, and lat/lon arrays.\n",
      "\n",
      "[['NETCDF:\"data/S1-GUNW-A-R-077-tops-20190222_20190210-231605-42666N_40796N-PP-d75b-v2_0_1.nc\":/science/grids/imagingGeometry/perpendicularBaseline']]\n",
      "Finished Download and ['bPerpendicular']\n"
     ]
    }
   ],
   "source": [
    "fileName = 'data/S1-GUNW-A-R-077-tops-20190222_20190210-231605-42666N_40796N-PP-d75b-v2_0_1.nc'\n",
    "dest     = './res'\n",
    "layers   = ['bPerpendicular']\n",
    "cmd      = \"-f {} --layers '{}' -w {} --demfile=Download\".format(fileName, ','.join(layers), dest)\n",
    "print ('Running extractProduct.py {}'.format(cmd))\n",
    "!extractProduct.py {cmd}\n",
    "print ('Finished Download and {}'.format(layers))"
   ]
  },
  {
   "cell_type": "markdown",
   "metadata": {},
   "source": [
    "### 1.2.  Extract and save the orbital information to disk.\n",
    "We now provide the downloaded DEM in input variable **dem**.\n",
    "We provide the layer names as **layers**.\n",
    "For details on orbital charateristics, see https://earth.esa.int/handbooks/asar/CNTR5-5.html"
   ]
  },
  {
   "cell_type": "code",
   "execution_count": 60,
   "metadata": {},
   "outputs": [
    {
     "name": "stdout",
     "output_type": "stream",
     "text": [
      "Running extractProduct.py -f data/S1-GUNW-A-R-077-tops-20190222_20190210-231605-42666N_40796N-PP-d75b-v2_0_1.nc --layers 'bParallel,incidenceAngle,lookAngle,azimuthAngle' -w ./res --demfile=Download\n",
      "########################################\n",
      "class 'Aria_standardproduct': sort input file(s) by starting time\n",
      "if user bbox was specified, file(s) not meeting imposed spatial criteria are rejected.\n",
      "\n",
      "Outputs = arrays ['standardproduct_info.products'] containing grouped “radarmetadata info” and “data layer keys+paths” dictionaries for each standard product + path to bbox file ['standardproduct_info.bbox_file'] (if bbox specified).\n",
      "\n",
      "All 1 input files successfully passed!\n",
      "Group spatiotemporally continuous IFGs.\n",
      "\n",
      "All 1 input files successfully passed!\n",
      "\n",
      "\n",
      "########################################\n",
      "fn 'merged_productbbox': extract/merge productBoundingBox layers for each pair and update dict, report common track bbox (default is to take common intersection, but user may specify union), and expected shape for DEM.\n",
      "\n",
      "\n",
      "\n",
      "########################################\n",
      "fn 'prep_dem': Pass DEM-filename, loaded DEM array, and lat/lon arrays.\n",
      "\n",
      "[['NETCDF:\"data/S1-GUNW-A-R-077-tops-20190222_20190210-231605-42666N_40796N-PP-d75b-v2_0_1.nc\":/science/grids/imagingGeometry/parallelBaseline']]\n",
      "[['NETCDF:\"data/S1-GUNW-A-R-077-tops-20190222_20190210-231605-42666N_40796N-PP-d75b-v2_0_1.nc\":/science/grids/imagingGeometry/incidenceAngle']]\n",
      "[['NETCDF:\"data/S1-GUNW-A-R-077-tops-20190222_20190210-231605-42666N_40796N-PP-d75b-v2_0_1.nc\":/science/grids/imagingGeometry/lookAngle']]\n",
      "[['NETCDF:\"data/S1-GUNW-A-R-077-tops-20190222_20190210-231605-42666N_40796N-PP-d75b-v2_0_1.nc\":/science/grids/imagingGeometry/azimuthAngle']]\n",
      "Finished Processing ['bParallel', 'incidenceAngle', 'lookAngle', 'azimuthAngle']\n"
     ]
    }
   ],
   "source": [
    "dem      = './res/SRTM_3arcsec'\n",
    "layers   = ['bParallel', 'incidenceAngle', 'lookAngle', 'azimuthAngle']\n",
    "cmd      = \"-f {} --layers '{}' -w {} --demfile=Download\".format(fileName, ','.join(layers), dest)\n",
    "\n",
    "print ('Running extractProduct.py {}'.format(cmd))\n",
    "!extractProduct.py {cmd}\n",
    "print ('Finished Processing {}'.format(layers))"
   ]
  },
  {
   "cell_type": "markdown",
   "metadata": {},
   "source": [
    "## END EXTRACT PRODUCT ------------------------------------------------------------------------\n",
    "Below here is template for further development"
   ]
  },
  {
   "cell_type": "markdown",
   "metadata": {},
   "source": [
    "### 1.2 Reading the metadata"
   ]
  },
  {
   "cell_type": "markdown",
   "metadata": {},
   "source": [
    "Now we can access to the metadata of the file and see how it is structured. The cell below shows how to read the metadata into a variable and then print it."
   ]
  },
  {
   "cell_type": "code",
   "execution_count": 46,
   "metadata": {},
   "outputs": [
    {
     "name": "stdout",
     "output_type": "stream",
     "text": [
      "Driver: netCDF/Network Common Data Format\n",
      "Files: ./data/S1-GUNW-A-R-077-tops-20190222_20190210-231605-42666N_40796N-PP-d75b-v2_0_1.nc\n",
      "Size is 512, 512\n",
      "Metadata:\n",
      "  NC_GLOBAL#author=David Bekaert\n",
      "  NC_GLOBAL#Conventions=CF-1.6\n",
      "  NC_GLOBAL#institution=Jet Propulsion Laboratory\n",
      "  NC_GLOBAL#ogr_geometry_field=productBoundingBox\n",
      "  NC_GLOBAL#ogr_layer_name=productBoundingBox\n",
      "  NC_GLOBAL#ogr_layer_type=POLYGON\n",
      "  NC_GLOBAL#product_type=UNW GEO IFG\n",
      "  NC_GLOBAL#references=https://aria.jpl.nasa.gov/\n",
      "  NC_GLOBAL#source=Contains modified Copernicus Sentinel data processed by ESA and ARIA NASA/JPL\n",
      "  NC_GLOBAL#title=ARIA standard product UNW GEO IFG\n",
      "  NC_GLOBAL#version=1b\n",
      "Subdatasets:\n",
      "  SUBDATASET_1_NAME=NETCDF:\"./data/S1-GUNW-A-R-077-tops-20190222_20190210-231605-42666N_40796N-PP-d75b-v2_0_1.nc\":productBoundingBox\n",
      "  SUBDATASET_1_DESC=[1x464] productBoundingBox (8-bit character)\n",
      "  SUBDATASET_2_NAME=NETCDF:\"./data/S1-GUNW-A-R-077-tops-20190222_20190210-231605-42666N_40796N-PP-d75b-v2_0_1.nc\":/science/grids/data/unwrappedPhase\n",
      "  SUBDATASET_2_DESC=[2246x4232] unwrappedPhase (32-bit floating-point)\n",
      "  SUBDATASET_3_NAME=NETCDF:\"./data/S1-GUNW-A-R-077-tops-20190222_20190210-231605-42666N_40796N-PP-d75b-v2_0_1.nc\":/science/grids/data/coherence\n",
      "  SUBDATASET_3_DESC=[2246x4232] coherence (32-bit floating-point)\n",
      "  SUBDATASET_4_NAME=NETCDF:\"./data/S1-GUNW-A-R-077-tops-20190222_20190210-231605-42666N_40796N-PP-d75b-v2_0_1.nc\":/science/grids/data/connectedComponents\n",
      "  SUBDATASET_4_DESC=[2246x4232] connectedComponents (32-bit floating-point)\n",
      "  SUBDATASET_5_NAME=NETCDF:\"./data/S1-GUNW-A-R-077-tops-20190222_20190210-231605-42666N_40796N-PP-d75b-v2_0_1.nc\":/science/grids/data/amplitude\n",
      "  SUBDATASET_5_DESC=[2246x4232] amplitude (32-bit floating-point)\n",
      "  SUBDATASET_6_NAME=NETCDF:\"./data/S1-GUNW-A-R-077-tops-20190222_20190210-231605-42666N_40796N-PP-d75b-v2_0_1.nc\":/science/grids/imagingGeometry/perpendicularBaseline\n",
      "  SUBDATASET_6_DESC=[4x27x40] perpendicularBaseline (32-bit floating-point)\n",
      "  SUBDATASET_7_NAME=NETCDF:\"./data/S1-GUNW-A-R-077-tops-20190222_20190210-231605-42666N_40796N-PP-d75b-v2_0_1.nc\":/science/grids/imagingGeometry/parallelBaseline\n",
      "  SUBDATASET_7_DESC=[4x27x40] parallelBaseline (32-bit floating-point)\n",
      "  SUBDATASET_8_NAME=NETCDF:\"./data/S1-GUNW-A-R-077-tops-20190222_20190210-231605-42666N_40796N-PP-d75b-v2_0_1.nc\":/science/grids/imagingGeometry/incidenceAngle\n",
      "  SUBDATASET_8_DESC=[4x27x40] incidenceAngle (32-bit floating-point)\n",
      "  SUBDATASET_9_NAME=NETCDF:\"./data/S1-GUNW-A-R-077-tops-20190222_20190210-231605-42666N_40796N-PP-d75b-v2_0_1.nc\":/science/grids/imagingGeometry/lookAngle\n",
      "  SUBDATASET_9_DESC=[4x27x40] lookAngle (32-bit floating-point)\n",
      "  SUBDATASET_10_NAME=NETCDF:\"./data/S1-GUNW-A-R-077-tops-20190222_20190210-231605-42666N_40796N-PP-d75b-v2_0_1.nc\":/science/grids/imagingGeometry/azimuthAngle\n",
      "  SUBDATASET_10_DESC=[4x27x40] azimuthAngle (32-bit floating-point)\n",
      "Corner Coordinates:\n",
      "Upper Left  (    0.0,    0.0)\n",
      "Lower Left  (    0.0,  512.0)\n",
      "Upper Right (  512.0,    0.0)\n",
      "Lower Right (  512.0,  512.0)\n",
      "Center      (  256.0,  256.0)\n",
      "\n"
     ]
    }
   ],
   "source": [
    "##Retrieve an overview of the file content##\n",
    "dataInfo = gdal.Info(ds)\n",
    "print(dataInfo)"
   ]
  },
  {
   "cell_type": "markdown",
   "metadata": {},
   "source": [
    "**This output can be generated by using the command below in your terminal under the JupyterDocs folder**\n",
    "\n",
    "gdalinfo ./data/S1-GUNW-A-R-077-tops-20190222_20190210-231605-42666N_40796N-PP-d75b-v2_0_1.nc"
   ]
  },
  {
   "cell_type": "markdown",
   "metadata": {},
   "source": [
    "## 2. Accessing to subdatasets"
   ]
  },
  {
   "cell_type": "markdown",
   "metadata": {},
   "source": [
    "We can access to subdatasets, such as unwrapped phase, and their metadata the same way we accessed the products. We need to open the specific subdataset, which we can obtaing their location in the file using the information we printed above, and again read its metadata."
   ]
  },
  {
   "cell_type": "code",
   "execution_count": 47,
   "metadata": {},
   "outputs": [
    {
     "name": "stdout",
     "output_type": "stream",
     "text": [
      "Driver: netCDF/Network Common Data Format\n",
      "Files: ./data/S1-GUNW-A-R-077-tops-20190222_20190210-231605-42666N_40796N-PP-d75b-v2_0_1.nc\n",
      "Size is 4232, 2246\n",
      "Coordinate System is:\n",
      "GEOGCRS[\"unknown\",\n",
      "    DATUM[\"unnamed\",\n",
      "        ELLIPSOID[\"Spheroid\",6378137,298.257223563,\n",
      "            LENGTHUNIT[\"metre\",1,\n",
      "                ID[\"EPSG\",9001]]]],\n",
      "    PRIMEM[\"Greenwich\",0,\n",
      "        ANGLEUNIT[\"degree\",0.0174532925199433,\n",
      "            ID[\"EPSG\",9122]]],\n",
      "    CS[ellipsoidal,2],\n",
      "        AXIS[\"latitude\",north,\n",
      "            ORDER[1],\n",
      "            ANGLEUNIT[\"degree\",0.0174532925199433,\n",
      "                ID[\"EPSG\",9122]]],\n",
      "        AXIS[\"longitude\",east,\n",
      "            ORDER[2],\n",
      "            ANGLEUNIT[\"degree\",0.0174532925199433,\n",
      "                ID[\"EPSG\",9122]]]]\n",
      "Data axis to CRS axis mapping: 2,1\n",
      "Origin = (-81.866250000000022,42.667083333333366)\n",
      "Pixel Size = (0.000833333333333,-0.000833333333333)\n",
      "Metadata:\n",
      "  /science/grids/data/crs#crs_wkt=GEOGCS[\"WGS 84\",DATUM[\"WGS_1984\",SPHEROID[\"WGS 84\",6378137,298.257223563,AUTHORITY[\"EPSG\",\"7030\"]],AUTHORITY[\"EPSG\",\"6326\"]],PRIMEM[\"Greenwich\",0,AUTHORITY[\"EPSG\",\"8901\"]],UNIT[\"degree\",0.0174532925199433,AUTHORITY[\"EPSG\",\"9122\"]],AUTHORITY[\"EPSG\",\"4326\"]]\n",
      "  /science/grids/data/crs#grid_mapping_name=latitude_longitude\n",
      "  /science/grids/data/crs#inverse_flattening=298.257223563\n",
      "  /science/grids/data/crs#longitude_of_prime_meridian=0\n",
      "  /science/grids/data/crs#long_name=crs\n",
      "  /science/grids/data/crs#semi_major_axis=6378137\n",
      "  /science/grids/data/crs#standard_name=crs\n",
      "  /science/grids/data/latitude#long_name=latitude\n",
      "  /science/grids/data/latitude#standard_name=latitude\n",
      "  /science/grids/data/latitude#units=degrees_north\n",
      "  /science/grids/data/latitude#_CoordinateAxisType=Lat\n",
      "  /science/grids/data/longitude#long_name=longitude\n",
      "  /science/grids/data/longitude#standard_name=longitude\n",
      "  /science/grids/data/longitude#units=degrees_east\n",
      "  /science/grids/data/longitude#_CoordinateAxisType=Lon\n",
      "  /science/grids/data/unwrappedPhase#description=Unwrapped phase\n",
      "  /science/grids/data/unwrappedPhase#grid_mapping=crs\n",
      "  /science/grids/data/unwrappedPhase#long_name=unwrappedPhase\n",
      "  /science/grids/data/unwrappedPhase#standard_name=unwrappedPhase\n",
      "  /science/grids/data/unwrappedPhase#units=rad\n",
      "  /science/grids/data/unwrappedPhase#_FillValue=0\n",
      "  NC_GLOBAL#author=David Bekaert\n",
      "  NC_GLOBAL#Conventions=CF-1.6\n",
      "  NC_GLOBAL#institution=Jet Propulsion Laboratory\n",
      "  NC_GLOBAL#ogr_geometry_field=productBoundingBox\n",
      "  NC_GLOBAL#ogr_layer_name=productBoundingBox\n",
      "  NC_GLOBAL#ogr_layer_type=POLYGON\n",
      "  NC_GLOBAL#product_type=UNW GEO IFG\n",
      "  NC_GLOBAL#references=https://aria.jpl.nasa.gov/\n",
      "  NC_GLOBAL#source=Contains modified Copernicus Sentinel data processed by ESA and ARIA NASA/JPL\n",
      "  NC_GLOBAL#title=ARIA standard product UNW GEO IFG\n",
      "  NC_GLOBAL#version=1b\n",
      "Corner Coordinates:\n",
      "Upper Left  ( -81.8662500,  42.6670833) ( 81d51'58.50\"W, 42d40' 1.50\"N)\n",
      "Lower Left  ( -81.8662500,  40.7954167) ( 81d51'58.50\"W, 40d47'43.50\"N)\n",
      "Upper Right ( -78.3395833,  42.6670833) ( 78d20'22.50\"W, 42d40' 1.50\"N)\n",
      "Lower Right ( -78.3395833,  40.7954167) ( 78d20'22.50\"W, 40d47'43.50\"N)\n",
      "Center      ( -80.1029167,  41.7312500) ( 80d 6'10.50\"W, 41d43'52.50\"N)\n",
      "Band 1 Block=1058x562 Type=Float32, ColorInterp=Undefined\n",
      "  NoData Value=0\n",
      "  Unit Type: rad\n",
      "  Metadata:\n",
      "    description=Unwrapped phase\n",
      "    grid_mapping=crs\n",
      "    long_name=unwrappedPhase\n",
      "    NETCDF_VARNAME=unwrappedPhase\n",
      "    standard_name=unwrappedPhase\n",
      "    units=rad\n",
      "    _FillValue=0\n",
      "\n"
     ]
    }
   ],
   "source": [
    "##Open and retrieve information of the unwrapped phase##\n",
    "\n",
    "unwPhase = gdal.Open(\"NETCDF:\"+fileName+\":/science/grids/data/unwrappedPhase\")\n",
    "unwPhaseInfo = gdal.Info(unwPhase)\n",
    "print(unwPhaseInfo)"
   ]
  },
  {
   "cell_type": "markdown",
   "metadata": {},
   "source": [
    "**This output can be generated by using the command below in your terminal under the JupyterDocs folder**\n",
    "\n",
    "gdalinfo gdalinfo NETCDF:\"./data/S1-GUNW-A-R-077-tops-20190222_20190210-231605-42666N_40796N-PP-d75b-v2_0_1.nc\":/science/grids/data/unwrappedPhase"
   ]
  },
  {
   "cell_type": "markdown",
   "metadata": {},
   "source": [
    "## 3. Reading the subdataset into an array and plotting"
   ]
  },
  {
   "cell_type": "markdown",
   "metadata": {},
   "source": [
    "### 3.1 Reading the subdataset into an array\n",
    "\n",
    "Reading data sets into python arrays enables us to take advantage of the whole flexibility and operational capabilities of python. Here were are going to read our unwrapped phase into an array which is technically a 2D matrix in this case. Python arrays are not necessarily always matrices and have the capabililty to expand into n-dimensions. The cell below shows how to read unwrapped phase into a variable. We are using variable, unwPhase, which is the instance we opened the unwrapped phase subdataset in the previous cell and calling GetRasterBand(1). We are calling raster band 1 because our subdataset has only 1 band as we see in the output of the previous cell."
   ]
  },
  {
   "cell_type": "code",
   "execution_count": 48,
   "metadata": {},
   "outputs": [],
   "source": [
    "unwData = unwPhase.GetRasterBand(1).ReadAsArray()"
   ]
  },
  {
   "cell_type": "markdown",
   "metadata": {},
   "source": [
    "### 3.2 Retrieving the information required for plotting\n",
    "\n",
    "When we want to plot the data using python we need to extract some more information from the subdataset. We are going to need \"No Data Value\", \"Projection\" and \"Corner Coordinates\". The cell below shows how to extract this information from unwrapped phase subdataset."
   ]
  },
  {
   "cell_type": "code",
   "execution_count": 49,
   "metadata": {},
   "outputs": [
    {
     "name": "stdout",
     "output_type": "stream",
     "text": [
      "\n",
      "Corner Coordinates from previous cell:\n",
      "Upper Left  ( -81.8662500,  42.6670833)\n",
      "Lower Left  ( -81.8662500,  40.7954167)\n",
      "Upper Right ( -78.3395833,  42.6670833)\n",
      "Lower Right ( -78.3395833,  40.7954167)\n",
      "\n",
      "\n",
      "Corner Coordinates calculated in this cell: \n",
      "Upper Left: \n",
      "(-81.86625, 42.6670833)\n",
      "Lower Left: \n",
      "(-81.86625, 40.7954167)\n",
      "Upper Right: \n",
      "(-78.3395833, 42.6670833)\n",
      "Lower Right: \n",
      "(-78.3395833, 40.7954167)\n"
     ]
    }
   ],
   "source": [
    "##Get No Data Value##\n",
    "NDV = unwPhase.GetRasterBand(1).GetNoDataValue()\n",
    "\n",
    "##Get Projection##\n",
    "projection = osr.SpatialReference()\n",
    "projection.ImportFromWkt(unwPhase.GetProjectionRef())\n",
    "\n",
    "##Get corner coordinates##\n",
    "ulLon, Lonres, Lonskew, ulLat, Latskew, Latres  = unwPhase.GetGeoTransform()\n",
    "lrLon = ulLon + (unwPhase.RasterXSize * Lonres)\n",
    "lrLat = ulLat + (unwPhase.RasterYSize * Latres)\n",
    "\n",
    "###Let's round corner coordinates to the same number of digits as given in previous cell###\n",
    "ulLon = np.round(ulLon,7)\n",
    "ulLat = np.round(ulLat,7)\n",
    "lrLon = np.round(lrLon,7)\n",
    "lrLat = np.round(lrLat,7)\n",
    "\n",
    "###Corner coordinates taken from previous cell###\n",
    "print('''\n",
    "Corner Coordinates from previous cell:\n",
    "Upper Left  ( -81.8662500,  42.6670833)\n",
    "Lower Left  ( -81.8662500,  40.7954167)\n",
    "Upper Right ( -78.3395833,  42.6670833)\n",
    "Lower Right ( -78.3395833,  40.7954167)\n",
    "''')\n",
    "\n",
    "###Corner coordinates calculated in this cell###\n",
    "print('''\n",
    "Corner Coordinates calculated in this cell: ''',\n",
    "'''Upper Left: ''', (ulLon,  ulLat),\n",
    "'''Lower Left: ''', (ulLon,  lrLat),\n",
    "'''Upper Right: ''', (lrLon,  ulLat),\n",
    "'''Lower Right: ''', (lrLon,  lrLat), sep='\\n')\n"
   ]
  },
  {
   "cell_type": "markdown",
   "metadata": {},
   "source": [
    "### 3.3 Masking the array \n",
    "After getting the required information for a plot let's do a final operation in the dataset and mask the no-data areas using the No Data Value (NDV) we got in the previous cell. We can carry out this operation using numpy module of python as below."
   ]
  },
  {
   "cell_type": "code",
   "execution_count": 50,
   "metadata": {},
   "outputs": [],
   "source": [
    "unwDataMasked = np.ma.masked_array(unwData, mask=unwData==NDV, fill_value=999999)"
   ]
  },
  {
   "cell_type": "markdown",
   "metadata": {},
   "source": [
    "### 3.4 Plotting the data"
   ]
  },
  {
   "cell_type": "markdown",
   "metadata": {},
   "source": [
    "We can use various methods to plot our dataset. The cell below is showing how to plot using Basemap module.\n",
    "\n",
    "Before starting to use Basemap module, we need to make sure that our **PROJ_LIB** directory has the epsg. Unfortunately this file is not automatically installed with PROJ4 version 6 but it comes with the previous versions. Since we only installed previous versions to use with Basemap, we can copy the epsg file from that directory (in case of conda installation of Basemap, /python/install/dir/share/proj/epsg) to our **PROJ_LIB** directory (/my/proj/install/dir/share/proj)\n",
    "\n",
    "Make sure that you have basemap-data-hires package installed for a high resolution plot. The command below can be used for Anaconda python installations.\n",
    "\n",
    "conda install -c conda-forge basemap-data-hires\n",
    "\n",
    "\n",
    "**NOTE TO SELF:\n",
    "TODO list to improve the cell below**\n",
    "- automatic projection extraction\n",
    "- plotted data is flipped (related to projection?)"
   ]
  },
  {
   "cell_type": "code",
   "execution_count": 175,
   "metadata": {},
   "outputs": [
    {
     "data": {
      "text/plain": [
       "[<matplotlib.patches.Polygon at 0x39f04cd68>,\n",
       " <matplotlib.patches.Polygon at 0x39f061e48>,\n",
       " <matplotlib.patches.Polygon at 0x39f061e10>,\n",
       " <matplotlib.patches.Polygon at 0x39f06d3c8>]"
      ]
     },
     "execution_count": 175,
     "metadata": {},
     "output_type": "execute_result"
    },
    {
     "data": {
      "image/png": "[encoded data removed]",
      "text/plain": [
       "<Figure size 1440x576 with 1 Axes>"
      ]
     },
     "metadata": {},
     "output_type": "display_data"
    }
   ],
   "source": [
    "from mpl_toolkits.basemap import Basemap\n",
    "\n",
    "plt.rcParams['figure.figsize'] = [20, 8]\n",
    "\n",
    "m = Basemap(projection='cyl',\n",
    "            llcrnrlat = lrLat,\n",
    "            llcrnrlon = ulLon,\n",
    "            urcrnrlat = ulLat,\n",
    "            urcrnrlon = lrLon,\n",
    "            resolution='h')\n",
    "\n",
    "lats = np.linspace(lrLat,ulLat,unwDataMasked.shape[0])\n",
    "lons = np.linspace(ulLon,lrLon,unwDataMasked.shape[1])\n",
    "x, y = m(*np.meshgrid(lons,lats))\n",
    "\n",
    "m.contourf(x,y,np.flipud(unwDataMasked),cmap='viridis')\n",
    "m.drawcoastlines()\n",
    "m.drawcountries(linewidth=2)\n",
    "m.drawstates(color='b')\n",
    "\n",
    "m.drawparallels(np.arange(m.latmin,m.latmax,1),labels=[1,0,0,0])\n",
    "m.drawmeridians(np.arange(m.lonmin,m.lonmax,1),labels=[0,0,0,1])\n",
    "# m.colorbar()\n",
    "m.fillcontinents(color='0.8', lake_color='#73C2FB',alpha=0.5,zorder=0)\n",
    "\n",
    "\n"
   ]
  },
  {
   "cell_type": "markdown",
   "metadata": {},
   "source": [
    "## 4. Cropping the data at given boundaries and creating KMZ files\n",
    "\n",
    "### 4.1 Exporting the data as KMZ\n",
    "In this section we are going to use gdal capability to export the data into a KMZ file which can be viewed in Google Earth. We can do this operation using the simple gdal.Translate function. We only need to define output name, input data (unwPhase) and the options. We define the options using gdal.ParseCommandLine() function which allows us to pass gdal_translate options in notebook environment.\n",
    "\n",
    "**Note:** Be aware that input data here is not our python array but the unwPhase which we opened using gdal.Open in previous section."
   ]
  },
  {
   "cell_type": "code",
   "execution_count": 177,
   "metadata": {},
   "outputs": [],
   "source": [
    "translateOptions = gdal.TranslateOptions(gdal.ParseCommandLine('-of KMLSUPEROVERLAY -scale -co format=png'))\n",
    "kmzFile = gdal.Translate(\"unwrappedPhase.kmz\", unwPhase, options=translateOptions)"
   ]
  },
  {
   "cell_type": "markdown",
   "metadata": {},
   "source": [
    "### 4.2 Cropping the data and exporting as KMZ\n",
    "\n",
    "By only adding the **projwin** option into gdal.TranslateOptions we can crop the data and export the cropped plot into a KMZ file"
   ]
  },
  {
   "cell_type": "code",
   "execution_count": 178,
   "metadata": {},
   "outputs": [],
   "source": [
    "translateOptions = gdal.TranslateOptions(gdal.ParseCommandLine('-of KMLSUPEROVERLAY -scale -co format=png -projwin -81.00 42.30 -80.00 41.50'))\n",
    "kmzFileCrop = gdal.Translate(\"unwrappedPhaseCrop.kmz\", unwPhase, options=translateOptions)"
   ]
  }
 ],
 "metadata": {
  "kernelspec": {
   "display_name": "Python 3",
   "language": "python",
   "name": "python3"
  },
  "language_info": {
   "codemirror_mode": {
    "name": "ipython",
    "version": 3
   },
   "file_extension": ".py",
   "mimetype": "text/x-python",
   "name": "python",
   "nbconvert_exporter": "python",
   "pygments_lexer": "ipython3",
   "version": "3.6.8"
  }
 },
 "nbformat": 4,
 "nbformat_minor": 2
}
