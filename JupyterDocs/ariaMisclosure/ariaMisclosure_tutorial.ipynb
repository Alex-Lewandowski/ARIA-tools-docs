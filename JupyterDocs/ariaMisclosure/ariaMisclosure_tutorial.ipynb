{
 "cells": [
  {
   "cell_type": "markdown",
   "metadata": {},
   "source": [
    "# Calculating phase misclosure\n",
    "\n",
    "**Author**: Robert Zinke - Jet Propulsion Laboratory\n",
    "\n",
    "This notebook demonstrates phase triplet misclosure calculation using the **`ariaMisclosure.py`** function. In this tutorial, we will introduce the concept of phase misclosure as a means of assessing the quality of an interferogram data set. We will then show how the `ariaMisclosure.py` tool can be used to explore the spatial and temporal patterns of misclosure in a data set."
   ]
  },
  {
   "cell_type": "markdown",
   "metadata": {},
   "source": [
    "## Table of Contents"
   ]
  },
  {
   "cell_type": "markdown",
   "metadata": {},
   "source": [
    "[**What is phase misclosure**](#what_is_phase_misclosure)\n",
    "\n",
    "[**Misclosure computation**](#misclosure_computation)\n",
    "- [Loading data](#loading_data)\n",
    "- [Phase triplet formulation](#phase_triplet_formulation)\n",
    "- [Reference point](#reference_point)\n",
    "\n",
    "[**Misclosure analysis**](#misclosure_analysis)\n",
    "- [Net misclosure and absolute misclosure](#net_misclosure_and_absolute_misclosure)\n",
    "- [Misclosure visualization](#misclosure_visualization)\n",
    "\n",
    "[**Use in timeseries analysis**](#use_in_timeseries_analysis)"
   ]
  },
  {
   "cell_type": "markdown",
   "metadata": {},
   "source": [
    "## Prep A. Initial setup of the notebook"
   ]
  },
  {
   "cell_type": "markdown",
   "metadata": {},
   "source": [
    "If you have not already done so, it is recommended that you first check out the [**ariaTSsetup_tutorial**](https://github.com/aria-tools/ARIA-tools-docs/blob/master/JupyterDocs/ariaTSsetup/ariaTSsetup_tutorial.ipynb). The `ariaMisclosure.py` routines are designed to work with outputs produced by `ariaTSsetup.py`. Note that completion of ariaTSsetup_tutorial is not required, as this tutorial will use a different, smaller data set.\n",
    "\n",
    "We first set up the file structure and initial notebook parameters. This step should be run each time this tutorial is (re)opened."
   ]
  },
  {
   "cell_type": "code",
   "execution_count": 1,
   "metadata": {},
   "outputs": [
    {
     "name": "stdout",
     "output_type": "stream",
     "text": [
      "Work directory:  /Users/buzzanga/Software_InSAR/ARIA-tools-docs_git/JupyterDocs/ariaMisclosure\n",
      "Tutorial directory:  /Users/buzzanga/Software_InSAR/ARIA-tools-docs_git/JupyterDocs/ariaMisclosure\n"
     ]
    }
   ],
   "source": [
    "## Import standard modules\n",
    "import os\n",
    "from osgeo import gdal\n",
    "import numpy as np\n",
    "import matplotlib.pyplot as plt\n",
    "\n",
    "## Import ARIA-tools modules\n",
    "from ARIAtools.computeMisclosure import stack\n",
    "\n",
    "## Define the home and data directories at the processing location\n",
    "work_dir = os.path.abspath(os.getcwd())\n",
    "tutorial_home_dir = os.path.abspath(os.getcwd())\n",
    "print(\"Work directory: \", work_dir)\n",
    "print(\"Tutorial directory: \", tutorial_home_dir)\n",
    "\n",
    "# Enable GDAL/OGR exceptions\n",
    "gdal.UseExceptions()\n",
    "\n",
    "# Verify if ARIA-tools is installed correctly\n",
    "try:\n",
    "    import ARIAtools.shapefile_util as shputil\n",
    "except:\n",
    "    raise Exception('ARIA-tools is missing from your PYTHONPATH')\n",
    "        \n",
    "os.chdir(work_dir)"
   ]
  },
  {
   "cell_type": "markdown",
   "metadata": {},
   "source": [
    "## Prep B. Download and process the data"
   ]
  },
  {
   "cell_type": "markdown",
   "metadata": {},
   "source": [
    "Next, we download the products using the `ariaDownload.py` function. For this tutorial, we will use data from descending track 42 over central California. This will take a few minutes if the products are not already downloaded. \n",
    "<div class=\"alert alert-warning\">\n",
    "  \n",
    "<b>Login Credentials:</b>\n",
    "Save your user-name and password to a `.netrc` file in your `$HOME` directory, or pass the combination explicitly using `ariaDownload.py --user <user> --pass <pass>`.\n",
    "</div>"
   ]
  },
  {
   "cell_type": "code",
   "execution_count": 2,
   "metadata": {},
   "outputs": [
    {
     "name": "stdout",
     "output_type": "stream",
     "text": [
      "ARIA-tools Version: 1.1.0\n",
      "Wrote -- 99 -- products to: /Users/buzzanga/Software_InSAR/ARIA-tools-docs_git/JupyterDocs/ariaMisclosure/products\n"
     ]
    }
   ],
   "source": [
    "!ariaDownload.py -t 42 -b '35.5 37.5 -122 -120' -w products -s 20170701 -e 20180101"
   ]
  },
  {
   "cell_type": "markdown",
   "metadata": {},
   "source": [
    "<img src=\"./support_docs/Parkfield_overview.png\" alt=\"track\" width=\"600\">\n",
    "\n",
    "<blockquote>Google Earth image of the creeping section of the San Andreas Fault near Parkfield. Gray boxes are Track 42 acquisitions. White boxes denote are the bounding box of our study area. Faults from USGS Quaternary fault catalog are plotted in background. For interpretation of fault trace colors, refer to see <a> href=\"https://earthquake.usgs.gov/hazards/qfaults/\">USGS fault catalogue website </a>. </blockquote>"
   ]
  },
  {
   "cell_type": "markdown",
   "metadata": {},
   "source": [
    "<div class=\"alert alert-warning\">\n",
    "<b>Note:</b> Before proceeding, you must have an API key stored at ~/.topoapi on the same computer that is running this notebook. \n",
    "</div>"
   ]
  },
  {
   "cell_type": "markdown",
   "metadata": {},
   "source": [
    "Follow instructions listed [here](https://opentopography.org/blog/introducing-api-keys-access-opentopography-global-datasets) to generate and access API key through OpenTopography."
   ]
  },
  {
   "cell_type": "markdown",
   "metadata": {},
   "source": [
    "```\n",
    "echo \"myAPIkey\" > ~/.topoapi\n",
    "chmod 600 ~/.topoapi\n",
    "```\n",
    "where myAPIkey is the key you just created."
   ]
  },
  {
   "cell_type": "markdown",
   "metadata": {},
   "source": [
    "We next extract the products for timeseries computation using `ariaTSsetup.py`. Extracted products for timeseries setup will go to the TSsetup subfolder."
   ]
  },
  {
   "cell_type": "code",
   "execution_count": 3,
   "metadata": {},
   "outputs": [
    {
     "name": "stdout",
     "output_type": "stream",
     "text": [
      "ARIA-tools Version: 1.1.0\n",
      "*****************************************************************\n",
      "*** Time-series Preparation Function ***\n",
      "*****************************************************************\n",
      "Shapefile TSsetup/user_bbox.json created for input user bounds.\n",
      "Multi-core version\n",
      "All (99) GUNW products meet spatial bbox criteria.\n",
      "Group GUNW products into spatiotemporally continuous interferograms.\n",
      "All (33) interferograms are spatially continuous.\n",
      "Thread count specified for gdal multiprocessing = 4\n",
      "Download/cropping DEM\n",
      "Applied cutline to produce 3 arc-sec SRTM DEM: TSsetup/DEM/SRTM_3arcsec.dem\n",
      "***Downloading water mask... ***\n",
      "\n",
      "Extracting unwrapped phase, coherence, and connected components for each interferogram pair\n",
      "Generating: unwrappedPhase - [=>                       3%                       ] 20170724_20170712    0s /     0sNETCDF:\"/Users/buzzanga/Software_InSAR/ARIA-tools-docs_git/JupyterDocs/ariaMisclosure/products/S1-GUNW-D-R-042-tops-20170724_20170712-140751-38619N_36645N-PP-28ef-v2_0_0.nc\":/science/grids/data/unwrappedPhase is GDAL compatible\n",
      "NETCDF:\"/Users/buzzanga/Software_InSAR/ARIA-tools-docs_git/JupyterDocs/ariaMisclosure/products/S1-GUNW-D-R-042-tops-20170724_20170712-140751-38619N_36645N-PP-28ef-v2_0_0.nc\":/science/grids/data/connectedComponents is GDAL compatible\n",
      "NETCDF:\"/Users/buzzanga/Software_InSAR/ARIA-tools-docs_git/JupyterDocs/ariaMisclosure/products/S1-GUNW-D-R-042-tops-20170724_20170712-140816-37128N_35153N-PP-3725-v2_0_0.nc\":/science/grids/data/unwrappedPhase is GDAL compatible\n",
      "NETCDF:\"/Users/buzzanga/Software_InSAR/ARIA-tools-docs_git/JupyterDocs/ariaMisclosure/products/S1-GUNW-D-R-042-tops-20170724_20170712-140816-37128N_35153N-PP-3725-v2_0_0.nc\":/science/grids/data/connectedComponents is GDAL compatible\n",
      "NETCDF:\"/Users/buzzanga/Software_InSAR/ARIA-tools-docs_git/JupyterDocs/ariaMisclosure/products/S1-GUNW-D-R-042-tops-20170724_20170712-140842-35635N_33658N-PP-272e-v2_0_0.nc\":/science/grids/data/unwrappedPhase is GDAL compatible\n",
      "NETCDF:\"/Users/buzzanga/Software_InSAR/ARIA-tools-docs_git/JupyterDocs/ariaMisclosure/products/S1-GUNW-D-R-042-tops-20170724_20170712-140842-35635N_33658N-PP-272e-v2_0_0.nc\":/science/grids/data/connectedComponents is GDAL compatible\n",
      "Original shape (563, 3361)\n",
      "Robs shape (563, 3361)\n",
      "Rasterio shape (1, 565, 3362)\n",
      "> \u001b[0;32m/Users/buzzanga/Software_InSAR/ARIA-tools_git/tools/ARIAtools/unwrapStitching.py\u001b[0m(423)\u001b[0;36m__calculateCyclesOverlap__\u001b[0;34m()\u001b[0m\n",
      "\u001b[0;32m    422 \u001b[0;31m\u001b[0;34m\u001b[0m\u001b[0m\n",
      "\u001b[0m\u001b[0;32m--> 423 \u001b[0;31m                \u001b[0mconnCompData1\u001b[0m\u001b[0;34m[\u001b[0m\u001b[0;34m(\u001b[0m\u001b[0mconnCompData1\u001b[0m\u001b[0;34m==\u001b[0m\u001b[0mconnCompNoData1\u001b[0m\u001b[0;34m)\u001b[0m \u001b[0;34m|\u001b[0m \u001b[0;34m(\u001b[0m\u001b[0mconnCompData1\u001b[0m\u001b[0;34m==\u001b[0m\u001b[0;36m0\u001b[0m\u001b[0;34m)\u001b[0m\u001b[0;34m]\u001b[0m\u001b[0;34m=\u001b[0m\u001b[0mnp\u001b[0m\u001b[0;34m.\u001b[0m\u001b[0mnan\u001b[0m\u001b[0;34m\u001b[0m\u001b[0;34m\u001b[0m\u001b[0m\n",
      "\u001b[0m\u001b[0;32m    424 \u001b[0;31m                \u001b[0mconnCompData2\u001b[0m \u001b[0;34m=\u001b[0m\u001b[0mconnCompFile2\u001b[0m\u001b[0;34m.\u001b[0m\u001b[0mGetRasterBand\u001b[0m\u001b[0;34m(\u001b[0m\u001b[0;36m1\u001b[0m\u001b[0;34m)\u001b[0m\u001b[0;34m.\u001b[0m\u001b[0mReadAsArray\u001b[0m\u001b[0;34m(\u001b[0m\u001b[0;34m)\u001b[0m\u001b[0;34m\u001b[0m\u001b[0;34m\u001b[0m\u001b[0m\n",
      "\u001b[0m\n",
      "\u001b[6n\u001b[?2004h\u001b[?1l\u001b[?25l\u001b[0m\u001b[?7l\u001b[0m\u001b[J\u001b[0;38;5;28mipdb> \u001b[6D\u001b[6C\u001b[?7h\u001b[0m\u001b[?12l\u001b[?25h\u001b[6D\u001b[J\u001b[0m\u001b[?7h\u001b[?2004lWARNING: your terminal doesn't support cursor position requests (CPR).\n",
      "\u001b[?2004h\u001b[?25l\u001b[0m\u001b[?7l\u001b[0m\u001b[J\u001b[0;38;5;28mipdb> \u001b[6D\u001b[6C\u001b[?7h\u001b[0m\u001b[?12l\u001b[?25h\u001b[?25l\u001b[?7l\u001b[6D\u001b[0m\u001b[J\u001b[0;38;5;28mipdb> \u001b[6D\u001b[0m\n",
      "\u001b[J\u001b[?7h\u001b[0m\u001b[?12l\u001b[?25h\u001b[?2004l\u001b[?2004h\u001b[?25l\u001b[0m\u001b[?7l\u001b[0m\u001b[J\u001b[0;38;5;28mipdb> \u001b[6D\u001b[6C\u001b[?7h\u001b[0m\u001b[?12l\u001b[?25h"
     ]
    }
   ],
   "source": [
    "!ariaTSsetup.py -w TSsetup -f 'products/*.nc' -d download -m download -b '35.5 37.5 -122 -120' -nt 4"
   ]
  },
  {
   "cell_type": "markdown",
   "metadata": {},
   "source": [
    "## What is phase misclosure\n",
    "<a id= 'what_is_phase_misclosure'></a>\n",
    "\n",
    "**Phase misclosure** is the disagreement between measurements of differential phase between common epochs *i*, *j*, and *k*. For the triplet of interferograms describing phase change $\\Delta\\phi_{ij}$, $\\Delta\\phi_{jk}$, $\\Delta\\phi_{ik}$, phase misclosure $\\omega$ is simply the difference between the expected phase change from the sum $(\\Delta\\phi_{ij}$ + $\\Delta\\phi_{jk})$ and the phase difference measured by $\\Delta\\phi_{ik}$:\n",
    "\n",
    "<div align = center> $\\omega = \\Delta\\phi_{ij} + \\Delta\\phi_{jk} - \\Delta\\phi_{ik}$ <div /align = center>"
   ]
  },
  {
   "cell_type": "markdown",
   "metadata": {},
   "source": [
    "This can be illustrated graphically with the following diagram.\n",
    "\n",
    "<img src=\"./support_docs/PhaseClosure_diagram.png\" alt=\"track\" width=\"600\">\n",
    "\n",
    "<blockquote>Phase triplet misclosure is the disagreement between measurements with different time paths.</blockquote>"
   ]
  },
  {
   "cell_type": "markdown",
   "metadata": {},
   "source": [
    "## Misclosure computation\n",
    "<a id = 'misclosure_computation'></a>\n",
    "\n",
    "Inputs for the `ariaMisclosure.py` function can be shown using the `-h` option. Examples are also shown."
   ]
  },
  {
   "cell_type": "code",
   "execution_count": 4,
   "metadata": {},
   "outputs": [
    {
     "name": "stdout",
     "output_type": "stream",
     "text": [
      "ARIA-tools Version: 1.1.0\r\n",
      "usage: ariaMisclosure.py [-h] -f IMGFILE [-w WORKDIR] [--startdate STARTDATE]\r\n",
      "                         [--enddate ENDDATE] [--exclude-pairs EXCLUDEPAIRS]\r\n",
      "                         [--plot-pairs] [--mintime MINTIME]\r\n",
      "                         [--maxtime MAXTIME] [--print-triplets]\r\n",
      "                         [--plot-triplets] [-refX REFX] [-refY REFY]\r\n",
      "                         [-refLon REFLON] [-refLat REFLAT] [--queryX QUERYX]\r\n",
      "                         [--queryY QUERYY] [--queryLon QUERYLON]\r\n",
      "                         [--queryLat QUERYLAT] [-v] [--pctmin PCTMINCLIP]\r\n",
      "                         [--pctmax PCTMAXCLIP] [--plot-time-intervals]\r\n",
      "\r\n",
      "Compute the cumulative misclosure of phase triplets based on a set of interferograms\r\n",
      "saved in the stack/unwrapStack.vrt data set. During triplet computation, values at a reference point\r\n",
      "are removed from the interferograms prior to misclosure computation to account for abiguities in the\r\n",
      "unwrapped phase that might arise during pairwise computation.\r\n",
      "\r\n",
      "The code works by generating a list of triplets from the available pairs.\r\n",
      "From the list of triplets, the routine will:\r\n",
      "\r\n",
      "    1. Formulate a list of viable triplet combinations (IJ, JK, IK)\r\n",
      "    2. Subtract the reference point from those interferograms\r\n",
      "    3. Compute the disagreement based on IJ+JK-IK\r\n",
      "       ... continue through the list of triplets.\r\n",
      "\r\n",
      "Both the misclosure values (positive or negative) and the absolute misclosure values\r\n",
      "(always positive) are computed and stored in 3D arrays, where each slice represents a triplet. The\r\n",
      "\"cumulative\" misclosure and absolute misclosure are computed by summing the 3D arrays.\r\n",
      "\r\n",
      "Once the (absolute) misclosure is calculated, the user can view the time history of any pixel by\r\n",
      "clicking on the maps.\r\n",
      "\r\n",
      "Thumbnail images of the misclosure associated with any given triplet are saved in the MisclosureFigs\r\n",
      "folder. Additionally, georeferenced tiffs of the cumulative misclosure and absolute cumulative\r\n",
      "misclosure maps are saved.\r\n",
      "\r\n",
      "optional arguments:\r\n",
      "  -h, --help            show this help message and exit\r\n",
      "  -f IMGFILE, --file IMGFILE\r\n",
      "                        ARIA files. Specify the stack/unwrapStack.vrt file, or a wildcard operator in the unwrappedPhase folder (see EXAMPLES)\r\n",
      "  -w WORKDIR, --workdir WORKDIR\r\n",
      "                        Specify directory to deposit all outputs. Default is local directory where script is launched.\r\n",
      "  --startdate STARTDATE\r\n",
      "                        Start date for data series\r\n",
      "  --enddate ENDDATE     End date for data series\r\n",
      "  --exclude-pairs EXCLUDEPAIRS\r\n",
      "                        List of pairs to exclude, e.g., '20160116_20160101 20171031_20161030'. This can also be provided in as a text file with one line per date pair.\r\n",
      "  --plot-pairs          Plot the timespans of date pairs\r\n",
      "  --mintime MINTIME     Minimum time span of pairs in triplets (days)\r\n",
      "  --maxtime MAXTIME     Maximum time span of pairs in triplets (days)\r\n",
      "  --print-triplets      Print list of existing triplets (i.e., those included in the data set).\r\n",
      "  --plot-triplets       Plot existing triplets\r\n",
      "  -refX REFX            Reference X pixel\r\n",
      "  -refY REFY            Reference Y pixel\r\n",
      "  -refLon REFLON        Reference longitude\r\n",
      "  -refLat REFLAT        Reference latitude\r\n",
      "  --queryX QUERYX       Query point X pixel\r\n",
      "  --queryY QUERYY       Query point Y pixel\r\n",
      "  --queryLon QUERYLON   Query point longitude\r\n",
      "  --queryLat QUERYLAT   Query point latitude\r\n",
      "  -v, --verbose         Verbose mode\r\n",
      "  --pctmin PCTMINCLIP   Minimum percent clip value for cumulative misclosure plot\r\n",
      "  --pctmax PCTMAXCLIP   Maximum percent clip value for cumulative misclosure plot\r\n",
      "  --plot-time-intervals\r\n",
      "                        Plot triplet intervals in misclosure analysis figure.\r\n",
      "\r\n",
      "EXAMPLES\r\n",
      "\r\n",
      "# Using the unwrapStack.vrt to call all interferograms, automatically find a reference point\r\n",
      "ariaMisclosure.py -f stack/unwrapStack.vrt\r\n",
      "\r\n",
      "# Provide a predefined reference point\r\n",
      "ariaMisclosure.py -f stack/unwrapStack.vrt -refLon 89.358 -refLat 32.621\r\n",
      "\r\n",
      "# Limit triplet selection by time interval (12 days to 48 days)\r\n",
      "ariaMisclosure.py -f stack/unwrapStack.vrt --mintime 12 --maxtime 48\r\n"
     ]
    }
   ],
   "source": [
    "## ariaMisclosure help menu\n",
    "!ariaMisclosure.py -h"
   ]
  },
  {
   "cell_type": "markdown",
   "metadata": {},
   "source": [
    "### Loading data\n",
    "<a id = 'loading_data'></a>\n",
    "\n",
    "The `ariaMisclosure.py` function requires the \"stack\" file generated by `ariaTSsetup.py`. The \"stack/unwrapStack.vrt\" file contains links (.VRT) to all the stitched, unwrapped interferograms.\n",
    "\n",
    "Through the command line interface, call the function using:\n",
    "\n",
    "`ariaMisclosure.py -f stack/unwrapStack.vrt`\n",
    "\n",
    "\n",
    "<div class=\"alert alert-warning\">\n",
    "Although the ariaMisclosure.py function only requires the filename (-f unwrapStack.vrt), the resulting analyses depend greatly on the selection of triplets evaluated, and the reference point chosen. Triplet definitions and selection are discussed in detail in the <b>Phase triplet formulation</b> section below. Reference point selection is described in the <b>Reference point</b> section.\n",
    "</div>"
   ]
  },
  {
   "cell_type": "markdown",
   "metadata": {},
   "source": [
    "Below, we instantiate the underlying class directly for demonstration purposes."
   ]
  },
  {
   "cell_type": "code",
   "execution_count": 6,
   "metadata": {},
   "outputs": [
    {
     "ename": "AttributeError",
     "evalue": "'stack' object has no attribute 'verbose'",
     "output_type": "error",
     "traceback": [
      "\u001b[0;31m---------------------------------------------------------------------------\u001b[0m",
      "\u001b[0;31mAttributeError\u001b[0m                            Traceback (most recent call last)",
      "\u001b[0;32m/var/folders/f7/z2mfx4dj7psf5c5flqmlzv1m0000gq/T/ipykernel_65674/3475422168.py\u001b[0m in \u001b[0;36m<module>\u001b[0;34m\u001b[0m\n\u001b[1;32m      1\u001b[0m \u001b[0;31m## Load data using \"stack\" object\u001b[0m\u001b[0;34m\u001b[0m\u001b[0;34m\u001b[0m\u001b[0m\n\u001b[0;32m----> 2\u001b[0;31m \u001b[0mdataStack\u001b[0m \u001b[0;34m=\u001b[0m \u001b[0mstack\u001b[0m\u001b[0;34m(\u001b[0m\u001b[0;34m'TSsetup/stack/unwrapStack.vrt'\u001b[0m\u001b[0;34m)\u001b[0m\u001b[0;34m\u001b[0m\u001b[0;34m\u001b[0m\u001b[0m\n\u001b[0m\u001b[1;32m      3\u001b[0m \u001b[0;34m\u001b[0m\u001b[0m\n\u001b[1;32m      4\u001b[0m \u001b[0;31m# [print(pair[0].strftime('%Y%m%d')+'_'+pair[1].strftime('%Y%m%d')) for pair in dataStack.pairs];\u001b[0m\u001b[0;34m\u001b[0m\u001b[0;34m\u001b[0m\u001b[0m\n\u001b[1;32m      5\u001b[0m \u001b[0;31m# [print((pair[0]-pair[1]).days) for pair in dataStack.pairs];\u001b[0m\u001b[0;34m\u001b[0m\u001b[0;34m\u001b[0m\u001b[0m\n",
      "\u001b[0;32m~/Software_InSAR/ARIA-tools_git/tools/ARIAtools/computeMisclosure.py\u001b[0m in \u001b[0;36m__init__\u001b[0;34m(self, imgfile, workdir, startDate, endDate, excludePairs, verbose)\u001b[0m\n\u001b[1;32m    165\u001b[0m \u001b[0;34m\u001b[0m\u001b[0m\n\u001b[1;32m    166\u001b[0m         \u001b[0;31m# Other\u001b[0m\u001b[0;34m\u001b[0m\u001b[0;34m\u001b[0m\u001b[0m\n\u001b[0;32m--> 167\u001b[0;31m         \u001b[0;32mif\u001b[0m \u001b[0mself\u001b[0m\u001b[0;34m.\u001b[0m\u001b[0mverbose\u001b[0m\u001b[0;34m:\u001b[0m \u001b[0mlogger\u001b[0m\u001b[0;34m.\u001b[0m\u001b[0msetLevel\u001b[0m\u001b[0;34m(\u001b[0m\u001b[0mlogging\u001b[0m\u001b[0;34m.\u001b[0m\u001b[0mDEBUG\u001b[0m\u001b[0;34m)\u001b[0m\u001b[0;34m\u001b[0m\u001b[0;34m\u001b[0m\u001b[0m\n\u001b[0m\u001b[1;32m    168\u001b[0m \u001b[0;34m\u001b[0m\u001b[0m\n\u001b[1;32m    169\u001b[0m \u001b[0;34m\u001b[0m\u001b[0m\n",
      "\u001b[0;31mAttributeError\u001b[0m: 'stack' object has no attribute 'verbose'"
     ]
    },
    {
     "name": "stdout",
     "output_type": "stream",
     "text": [
      "> \u001b[0;32m/Users/buzzanga/Software_InSAR/ARIA-tools_git/tools/ARIAtools/computeMisclosure.py\u001b[0m(167)\u001b[0;36m__init__\u001b[0;34m()\u001b[0m\n",
      "\u001b[0;32m    165 \u001b[0;31m\u001b[0;34m\u001b[0m\u001b[0m\n",
      "\u001b[0m\u001b[0;32m    166 \u001b[0;31m        \u001b[0;31m# Other\u001b[0m\u001b[0;34m\u001b[0m\u001b[0;34m\u001b[0m\u001b[0m\n",
      "\u001b[0m\u001b[0;32m--> 167 \u001b[0;31m        \u001b[0;32mif\u001b[0m \u001b[0mself\u001b[0m\u001b[0;34m.\u001b[0m\u001b[0mverbose\u001b[0m\u001b[0;34m:\u001b[0m \u001b[0mlogger\u001b[0m\u001b[0;34m.\u001b[0m\u001b[0msetLevel\u001b[0m\u001b[0;34m(\u001b[0m\u001b[0mlogging\u001b[0m\u001b[0;34m.\u001b[0m\u001b[0mDEBUG\u001b[0m\u001b[0;34m)\u001b[0m\u001b[0;34m\u001b[0m\u001b[0;34m\u001b[0m\u001b[0m\n",
      "\u001b[0m\u001b[0;32m    168 \u001b[0;31m\u001b[0;34m\u001b[0m\u001b[0m\n",
      "\u001b[0m\u001b[0;32m    169 \u001b[0;31m\u001b[0;34m\u001b[0m\u001b[0m\n",
      "\u001b[0m\n",
      "ipdb> q\n"
     ]
    }
   ],
   "source": [
    "## Load data using \"stack\" object\n",
    "dataStack = stack('TSsetup/stack/unwrapStack.vrt')\n",
    "\n",
    "# [print(pair[0].strftime('%Y%m%d')+'_'+pair[1].strftime('%Y%m%d')) for pair in dataStack.pairs];\n",
    "# [print((pair[0]-pair[1]).days) for pair in dataStack.pairs];"
   ]
  },
  {
   "cell_type": "markdown",
   "metadata": {},
   "source": [
    "### Available pairs\n",
    "\n",
    "As we will see below, the available triplet combinations depend on the available pairs. For an intuitive overview of the pairing strategy, invoke the `--plot-pairs` option.\n",
    "\n",
    "This can be done using:\n",
    "`ariaMisclosure.py -f stack/unwrapStack.vrt --plot-pairs`"
   ]
  },
  {
   "cell_type": "code",
   "execution_count": null,
   "metadata": {},
   "outputs": [],
   "source": [
    "## Plot pairs\n",
    "dataStack.plotPairs()"
   ]
  },
  {
   "cell_type": "markdown",
   "metadata": {},
   "source": [
    "In the figure above, the pairs are ordered by secondary date. Note how the pair intervals range from 12 days to 60 days, in increments of 12 days (12, 24, 36, 48, 60)."
   ]
  },
  {
   "cell_type": "markdown",
   "metadata": {},
   "source": [
    "### Phase triplet formulation\n",
    "<a id = 'phase_triplet_formulation'></a>\n",
    "\n",
    "Misclosure computation depends on the selection of epochs that constitute the \"triplet\" of interferograms. For instance, selection of pairs with 6- and 12-day lags...\n",
    "\n",
    "e.g., for dates *i* 20150101, *j* 20150107, and *k* 20150114\n",
    "\n",
    "20150107_20150101 ( *j i* = 6 days)\n",
    "\n",
    "20150113_20150107 ( *k j* = 6 days)\n",
    "\n",
    "20150113_20150101 ( *k i* = 12 days)\n",
    "\n",
    "... will lead to a different result than pairs with 12- and 24-day lags...\n",
    "\n",
    "e.g., for dates *i* 20150101, *j* 20150113, and *k* 20150125\n",
    "\n",
    "20150113_20150101 ( *j i* = 12 days)\n",
    "\n",
    "20150125_20150113 ( *k j* = 12 days)\n",
    "\n",
    "20150125_20150101 ( *k i* = 24 days)\n"
   ]
  },
  {
   "cell_type": "markdown",
   "metadata": {},
   "source": [
    "### Triplet selection\n",
    "\n",
    "It is left to the user to define the triplet strategy of choice, keeping in mind what pairs are available in the data set.\n",
    "\n",
    "By default, `ariaMisclosure.py` will create a list of all possible triplets based on the dates provided. To view a list of all possible triplets, invoke the `--print-triplets` flag:\n",
    "\n",
    "`ariaMisclosure.py -f stack/unwrapStack.vrt --print-triplets`\n",
    "\n",
    "For a schematic of the triplets, use `--plot-triplets`:\n",
    "\n",
    "`ariaMisclosure.py -f stack/unwrapStack.vrt --plot-triplets`"
   ]
  },
  {
   "cell_type": "code",
   "execution_count": null,
   "metadata": {},
   "outputs": [],
   "source": [
    "## Create list of all possible triplets:\n",
    "#    `ariaMisclosure.py -f stack/unwrapStack.vrt --plot-triplets`\n",
    "dataStack.createTriplets()\n",
    "\n",
    "## Plot triplet schematic\n",
    "dataStack.plotTriplets()\n",
    "plt.gca().set_title('ALL possible triplets');"
   ]
  },
  {
   "cell_type": "markdown",
   "metadata": {},
   "source": [
    "To reduce the list to include only pairs and triplets of interest, `ariaMisclosure.py` provides several inputs options for the user.\n",
    "\n",
    "For example, let's say that we only want to use pairs with 12-day and 24-day intervals. Use the `--maxtime` option to specify the maximum allowable time interval:\n",
    "\n",
    "`ariaMisclosure.py -f stack/unwrapStack.vrt --plot-triplets --mintime 12 --maxtime 24`"
   ]
  },
  {
   "cell_type": "code",
   "execution_count": null,
   "metadata": {},
   "outputs": [],
   "source": [
    "## Limit triplets to 12-24 days\n",
    "dataStack.createTriplets(minTime=12,maxTime=24)\n",
    "\n",
    "## Plot triplet schematic\n",
    "dataStack.plotTriplets()\n",
    "plt.gca().set_title('Triplets with pair intervals between 12 and 24 days');\n"
   ]
  },
  {
   "cell_type": "markdown",
   "metadata": {},
   "source": [
    "These criteria result in perfectly symmetric pair durations for each triplet, but perhaps the selection criteria are too stringent, resulting in gaps. If we include 36-day pairs, broader temporal coverage is available."
   ]
  },
  {
   "cell_type": "code",
   "execution_count": null,
   "metadata": {},
   "outputs": [],
   "source": [
    "## Limit triplets to 12-36 days\n",
    "dataStack.createTriplets(minTime=12,maxTime=36)\n",
    "\n",
    "## Plot triplets\n",
    "dataStack.plotTriplets()\n",
    "plt.gca().set_title('Triplets with pairs between 12 and 36 days');"
   ]
  },
  {
   "cell_type": "markdown",
   "metadata": {},
   "source": [
    "Note that this strategy, however, gives more than one triplet for a given start date. Interpretation of the results can be complicated in this case, so for this demonstration we will return to our maximum time limit of 24 days."
   ]
  },
  {
   "cell_type": "code",
   "execution_count": null,
   "metadata": {},
   "outputs": [],
   "source": [
    "## Reformulate triplets\n",
    "dataStack.createTriplets(minTime=12,maxTime=24)"
   ]
  },
  {
   "cell_type": "markdown",
   "metadata": {},
   "source": [
    "### Reference point\n",
    "<a id = \"reference_point\"></a>\n",
    "\n",
    "The interferograms generated through the ARIA workflow are processed in a pair-wise manner. That is, each secondary image is registered to its respective master; interferograms are not coregistered in a stack to a single master. A reference point in space is therefore necesary to align the interferograms such that their phases are meaningful, much in the same way that a spatial reference point is necessary for timeseries computation.\n",
    "\n",
    "`ariaMisclosure.py` offsers several options for selecting the reference point:\n",
    "\n",
    "- Automatic\n",
    "- XY pixel specification\n",
    "- Lon/Lat specification\n",
    "\n",
    "By default, `ariaMisclosure.py` will automatically select a random reference point at a pixel with high average filtered coherence. Specifically, the routines call the filtered coherence maps from stack/cohStack.vrt. These maps are summed to find pixels with average coherence > 0.7, from which a random location is chosen. This can be used as a first pass approach, but it is strongly recommended that the user identify an optimal location and define the reference point manually."
   ]
  },
  {
   "cell_type": "markdown",
   "metadata": {},
   "source": [
    "Here, we use the reference point -120.96$^\\circ$E, 36.61$^\\circ$N, which is in an unfarmed field away from steep topography or major tectonic structures. The command for this is:\n",
    "\n",
    "`ariaMisclosure.py -f stack/unwrapStack.vrt --mintime 12 --maxtime 24 -refLon -120.96 -refLat 36.61`\n",
    "\n",
    "Using this function in the command line, misclosure computation is carried out automatically. Below, we call the computeMisclosure() funciton for demonstration purposes."
   ]
  },
  {
   "cell_type": "code",
   "execution_count": null,
   "metadata": {},
   "outputs": [],
   "source": [
    "## Compute misclosure\n",
    "dataStack.computeMisclosure(refLoLa=[-120.96, 36.61])"
   ]
  },
  {
   "cell_type": "markdown",
   "metadata": {},
   "source": [
    "As described [above](#what_is_phase_misclosure), misclosure is calculated by summing interferograms from common epochs *i*, *j*, *k*:\n",
    "\n",
    "\n",
    "<div align = \"center\"> $\\omega = \\Delta\\phi_{ji} + \\Delta\\phi_{kj} - \\Delta\\phi_{ki}$ </div>\n",
    "\n",
    "\n",
    "where all three interferograms are adjusted to a common reference point.\n",
    "\n",
    "This is illustrated below using a single triplet of interferograms:\n",
    "\n",
    "20170724_20170712 , 20170805_20170724 , 2017805_20170712\n",
    "\n",
    "\n",
    "<img src=\"./support_docs/MisclosureSum.png\" alt=\"track\" width=\"850\">\n",
    "\n",
    "<blockquote>Triplet of interferograms. Black square is the reference point.</blockquote>\n",
    "\n",
    "The resulting map of misclosure from that triplet is shown:\n",
    "\n",
    "<img src=\"./support_docs/Misclosure.png\" width=\"500\">\n",
    "\n",
    "<blockquote>Misclosure from triplet. Black square is the reference point&mdash;here, misclosure is by definition zero.</blockquote>\n",
    "\n",
    "In the above misclosure map, note how misclosure is larger (in an absolute sense) in the agricultural areas.\n",
    "\n",
    "<div class=\"alert alert-warning\">\n",
    "By definition, misclosure will be zero at the reference point. Similarly, the spatial patterns of misclosure might change if the reference point is relocated, especially if different connected components are present at the reference point location.\n",
    "</div>"
   ]
  },
  {
   "cell_type": "markdown",
   "metadata": {},
   "source": [
    "## Misclosure analysis\n",
    "<a id = \"misclosure_analysis\"></a>"
   ]
  },
  {
   "cell_type": "markdown",
   "metadata": {},
   "source": [
    "### Net misclosure and absolute misclosure\n",
    "<a id = \"net_misclosure_and_absolute_misclosure\"></a>\n",
    "\n",
    "Two values of misclosure are calculated: (1) the **net misclosure**; and (2) the **absolute misclosure**.\n",
    "\n",
    "- The net misclosure is simply the sum of all misclosure measurements (e.g., $\\omega$ = -0.3 + 0.2 + 0.1 = 0.0). The range of values can therefore be positive or negative.\n",
    "\n",
    "- The absolute misclosure uses the absolute value of misclosure measurements (e.g., |$\\omega$| = |-0.3| + |0.2| + |0.1| = 0.6). Absolute misclosure values are therefore only positive.\n",
    "\n",
    "Both misclosure and absolute misclosure are stored as multi-dimensional arrays, with each \"slice\" representing the misclosure map associated with a triplet."
   ]
  },
  {
   "cell_type": "markdown",
   "metadata": {},
   "source": [
    "### Misclosure visualization\n",
    "<a id = \"misclosure_visualization\"></a>\n",
    "\n",
    "**Misclosure for each triplet**\n",
    "\n",
    "The misclosure maps for each triplet of dates are printed as PNGs and stored in the \"MisclosureFigs\" folder."
   ]
  },
  {
   "cell_type": "markdown",
   "metadata": {},
   "source": [
    "**Cumulative misclosure**\n",
    "\n",
    "For data sets of more than a dozen or so triplets, it is convenient to visualize the misclosure as a cumulative sum of all the misclosure maps. This highlights places where misclosure is consistently poor.\n",
    "\n",
    "When running `ariaMisclosure.py`, three plots will automatically appear. These are:\n",
    "- cumulative misclosure\n",
    "- cumulative absolute misclosure\n",
    "- a plot with four graphs that will show the time history of misclosure for the triplets\n",
    "\n",
    "These three plots are interactive when run through the command line. Static versions of the plots are shown below. Here, we pre-specify a query point to view the misclosure series. The query point (-121.11$^\\circ$, 36.51$^\\circ$) is shown as a white dot on the left-hand side of the maps below. The net misclosure, cumulative net misclosure, absolute misclosure, and cumulative absolute misclosure are shown in the line chart at the bottom."
   ]
  },
  {
   "cell_type": "code",
   "execution_count": null,
   "metadata": {},
   "outputs": [],
   "source": [
    "## Visualize misclosure\n",
    "dataStack.plotCumMisclosure(queryLoLa=[-121.11,36.51])"
   ]
  },
  {
   "cell_type": "markdown",
   "metadata": {},
   "source": [
    "<div class=\"alert alert-warning\">\n",
    "<b>Note</b>, the time history of misclosure values are plotted as a function of the middle date of each triplet. If there is more than one triplet for each date, the time histories might be more difficult to interpret.\n",
    "</div>"
   ]
  },
  {
   "cell_type": "markdown",
   "metadata": {},
   "source": [
    "Using the command line tool, the use can click on different pixels of either the net misclosure or absolute misclosure maps to see the time history of any pixel. The pixel values are printed to the terminal."
   ]
  },
  {
   "cell_type": "markdown",
   "metadata": {},
   "source": [
    "Once the interactive plots are closed, the figures are saved to files.\n",
    "\n",
    "The cumulative net and absolute misclosure figures are saved as georeferenced GeoTiffs for use with mapping software."
   ]
  },
  {
   "cell_type": "markdown",
   "metadata": {},
   "source": [
    "## Use in timeseries analysis\n",
    "<a id = \"use_in_timeseries_analysis\"></a>"
   ]
  },
  {
   "cell_type": "markdown",
   "metadata": {},
   "source": [
    "Triplet misclosure analysis can help determine what portion of your observed velocities may be due to measurement error from multilooking. If the misclosure computation shows a systematic trend (e.g., cumulative misclosure increases with time), then the apparent LOS velocities in your timeseries calculation will not represent true ground surface velocities. Various mitigation strategies for this problem can be found in the literature.\n",
    "\n",
    "Furthermore, sudden jumps or increases/decreases in misclosure can indicate unwrapping errors that went unnoticed in the initial selection of interferograms. The user can decide whether those interferograms with unwrapping errors are appropriate for further timeseries analysis."
   ]
  },
  {
   "cell_type": "code",
   "execution_count": null,
   "metadata": {},
   "outputs": [],
   "source": []
  }
 ],
 "metadata": {
  "kernelspec": {
   "display_name": "Python 3 (ipykernel)",
   "language": "python",
   "name": "python3"
  },
  "language_info": {
   "codemirror_mode": {
    "name": "ipython",
    "version": 3
   },
   "file_extension": ".py",
   "mimetype": "text/x-python",
   "name": "python",
   "nbconvert_exporter": "python",
   "pygments_lexer": "ipython3",
   "version": "3.9.7"
  },
  "latex_envs": {
   "LaTeX_envs_menu_present": true,
   "autoclose": false,
   "autocomplete": false,
   "bibliofile": "biblio.bib",
   "cite_by": "apalike",
   "current_citInitial": 1,
   "eqLabelWithNumbers": true,
   "eqNumInitial": 1,
   "hotkeys": {
    "equation": "Ctrl-E",
    "itemize": "Ctrl-I"
   },
   "labels_anchors": false,
   "latex_user_defs": false,
   "report_style_numbering": false,
   "user_envs_cfg": false
  }
 },
 "nbformat": 4,
 "nbformat_minor": 2
}
