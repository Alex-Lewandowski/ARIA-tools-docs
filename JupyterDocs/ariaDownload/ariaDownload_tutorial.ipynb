{
 "cells": [
  {
   "cell_type": "markdown",
   "metadata": {},
   "source": [
    "# Downloading GUNW products using ariaDownload.py\n",
    "\n",
    "**Author**: Brett A. Buzzanga, David Bekaert - Jet Propulsion Laboratory\n",
    "\n",
    "This notebook demonstrates how to use the productAPI.py command line tool to download Sentinel 1 ARIA Geocoded UNWrapped interferogram (**GUNW**) products.  A detailed overview of the ARIA GUNW product with respect to processing, formatting, sampling, and data layers can be found on the [ARIA website](https://aria.jpl.nasa.gov/node/97).\n",
    "\n",
    "The **`ariaDownload.py`** program wraps around the NASA's ASF DAAC API and [Bulk Download Service](https://bulk-download.asf.alaska.edu/help). The ASF Bulk Download Service handles most of the heavy lifting of the data-download and will conveniently skip previously downloaded files, and re-download partially downloaded files.  \n",
    "In this notebook, we will demonstrate **`ariaDownload.py`** functionality along track 4, which intersects the U.S. East Coast in southeastern Virginia.\n",
    "\n",
    "\n",
    "<div class=\"alert alert-warning\">\n",
    "<b>Potential download failure:</b> \n",
    "GUNW products are hosted at the NASA ASF DAAC. Downloading them requires a NASA Earthdata URS user login and requires users to add \"GRFN Door (PROD)\" to their URS approved applications\n",
    "\n",
    "<b>Login Credentials:</b>\n",
    "Save your user-name and password to a `.netrc` file in your `$HOME` directory, or pass the combination explicitly using `ariaDownload.py --user <user> --pass <pass>`.\n",
    "\n",
    "\n",
    "To create a .netrc file, pass your earthdata credentials as so:\n",
    "```\n",
    "echo \"machine urs.earthdata.nasa.gov login <user> password <pass>\" > ~/.netrc chmod 600 ~/.netrc\n",
    "```\n",
    "</div>"
   ]
  },
  {
   "cell_type": "markdown",
   "metadata": {},
   "source": [
    "## Overview of the ariaDownload.py program"
   ]
  },
  {
   "cell_type": "markdown",
   "metadata": {},
   "source": [
    "Running **`ariaDownload.py`** with no options, or with **`-h`**, will show the parameters options as well as some examples. At minimum, users need to specify a spatial constraint either as a track number or bounding box (can be a shapefile).\n",
    "\n",
    "Let us explore what some of the other options are:"
   ]
  },
  {
   "cell_type": "code",
   "execution_count": 1,
   "metadata": {},
   "outputs": [
    {
     "name": "stdout",
     "output_type": "stream",
     "text": [
      "ARIA-tools Version: 1.1.0\r\n",
      "usage: ariaDownload.py [-h] [-o OUTPUT] [-t TRACK] [-b BBOX] [-w WD]\r\n",
      "                       [-s START] [-e END] [-u USER] [-p PASSW] [-l DAYSLT]\r\n",
      "                       [-m DAYSGT] [-nt NUM_THREADS] [-i IFG] [-d FLIGHTDIR]\r\n",
      "                       [--version VERSION] [-v]\r\n",
      "\r\n",
      "Command line interface to download GUNW products from the ASF DAAC. GUNW products are hosted at the NASA ASF DAAC.\r\n",
      "Downloading them requires a NASA Earthdata URS user login and requires users to add \"GRFN Door (PROD)\" and \"ASF Datapool Products\" to their URS approved applications.\r\n",
      "\r\n",
      "optional arguments:\r\n",
      "  -h, --help            show this help message and exit\r\n",
      "  -o OUTPUT, --output OUTPUT\r\n",
      "                        Output type, default is \"Download\". \"Download\",\r\n",
      "                        \"Count\", and \"Url\"\"Kmz\" are currently supported. Use\r\n",
      "                        \"Url\" for ingestion to aria*.py\r\n",
      "  -t TRACK, --track TRACK\r\n",
      "                        track to download; single number (including leading\r\n",
      "                        zeros) or comma separated\r\n",
      "  -b BBOX, --bbox BBOX  Lat/Lon Bounding SNWE, or GDAL-readable file\r\n",
      "                        containing POLYGON geometry.\r\n",
      "  -w WD, --workdir WD   Specify directory to deposit all outputs. Default is\r\n",
      "                        \"products\" in local directory where script is\r\n",
      "                        launched.\r\n",
      "  -s START, --start START\r\n",
      "                        Start date as YYYYMMDD; If none provided, starts at\r\n",
      "                        beginning of Sentinel record (2014).\r\n",
      "  -e END, --end END     End date as YYYYMMDD. If none provided, ends today.\r\n",
      "  -u USER, --user USER  NASA Earthdata URS user login. Users must add \"GRFN\r\n",
      "                        Door (PROD)\" and \"ASF Datapool Products\" to their URS\r\n",
      "                        approved applications.\r\n",
      "  -p PASSW, --pass PASSW\r\n",
      "                        NASA Earthdata URS user password. Users must add \"GRFN\r\n",
      "                        Door (PROD)\" and \"ASF Datapool Products\" to their URS\r\n",
      "                        approved applications.\r\n",
      "  -l DAYSLT, --daysless DAYSLT\r\n",
      "                        Take pairs with a temporal baseline -- days less than\r\n",
      "                        this value.\r\n",
      "  -m DAYSGT, --daysmore DAYSGT\r\n",
      "                        Take pairs with a temporal baseline -- days greater\r\n",
      "                        than this value. Example, annual pairs:\r\n",
      "                        ariaDownload.py -t 004 --daysmore 364.\r\n",
      "  -nt NUM_THREADS, --num_threads NUM_THREADS\r\n",
      "                        Specify number of threads for multiprocessing\r\n",
      "                        download. By default \"1\". Can also specify \"All\" to\r\n",
      "                        use all available threads.\r\n",
      "  -i IFG, --ifg IFG     Retrieve one interferogram by its start/end date,\r\n",
      "                        specified as YYYYMMDD_YYYYMMDD (order independent)\r\n",
      "  -d FLIGHTDIR, --direction FLIGHTDIR\r\n",
      "                        Flight direction, options: ascending, a, descending, d\r\n",
      "  --version VERSION     Specify version as str, e.g. 2_0_4 or all prods;\r\n",
      "                        default: newest\r\n",
      "  -v, --verbose         Print products to be downloaded to stdout\r\n",
      "\r\n",
      "Examples of use:\r\n",
      "\t ariaDownload.py --track 004 --output count\r\n",
      "\t ariaDownload.py --bbox \"36.75 37.225 -76.655 -75.928\"\r\n",
      "\t ariaDownload.py -t 004,077 --start 20190101 -o count\r\n"
     ]
    }
   ],
   "source": [
    "!ariaDownload.py"
   ]
  },
  {
   "cell_type": "markdown",
   "metadata": {},
   "source": [
    "## 1. Example of ariaDownload output options"
   ]
  },
  {
   "cell_type": "markdown",
   "metadata": {},
   "source": [
    "The user has the option to **download**, **count**, and generate a **kmz** corresponding to return of their search criteria. Below we provide example for each of these over Track 4."
   ]
  },
  {
   "cell_type": "markdown",
   "metadata": {},
   "source": [
    "### Count the number of products"
   ]
  },
  {
   "cell_type": "markdown",
   "metadata": {},
   "source": [
    "To get a count of the number of products, without downloading data, provide the **`--output`** option with the **`count`** argument. To get information on the exact product filenames also include the verbose option **`-v`**."
   ]
  },
  {
   "cell_type": "code",
   "execution_count": 2,
   "metadata": {},
   "outputs": [
    {
     "name": "stdout",
     "output_type": "stream",
     "text": [
      "ARIA-tools Version: 1.1.0\n",
      "\n",
      "Found -- 3907 -- products\n"
     ]
    }
   ],
   "source": [
    "!ariaDownload.py --track 4 --output count"
   ]
  },
  {
   "cell_type": "markdown",
   "metadata": {},
   "source": [
    "### Generate list of virtual products from ASF S3 bucket (BETA)"
   ]
  },
  {
   "cell_type": "markdown",
   "metadata": {},
   "source": [
    "To generate a textfile containing a list of product URLs from the ASF S3 bucket, without downloading data, provide the **`--output`** option with the **`url`** argument. To get information on the exact product filenames also include the verbose option **`-v`**. Extracting layers virtually by leveraging this list of URLs is currently only supported by systems with the following packages: Linux kernel >=4.3 and libnetcdf >=4.5 "
   ]
  },
  {
   "cell_type": "code",
   "execution_count": 3,
   "metadata": {},
   "outputs": [
    {
     "name": "stdout",
     "output_type": "stream",
     "text": [
      "ARIA-tools Version: 1.1.0\n",
      "Wrote -- 3907 -- product urls to: /Users/buzzanga/Software_InSAR/ARIA-tools-docs_git/JupyterDocs/ariaDownload/products/track4_0.txt\n"
     ]
    }
   ],
   "source": [
    "!ariaDownload.py --track 4 --output url"
   ]
  },
  {
   "cell_type": "markdown",
   "metadata": {},
   "source": [
    "We can now have a look at the generated textfile, which contains the URLs of all standard products over the specified track. As there are a lot of products we will only have a look at the first 10."
   ]
  },
  {
   "cell_type": "code",
   "execution_count": 4,
   "metadata": {},
   "outputs": [
    {
     "name": "stdout",
     "output_type": "stream",
     "text": [
      "head: products/download_products_4track_0.txt: No such file or directory\r\n"
     ]
    }
   ],
   "source": [
    "!head -n 10 products/download_products_4track_0.txt"
   ]
  },
  {
   "cell_type": "markdown",
   "metadata": {},
   "source": [
    "### Generate KMZ of products"
   ]
  },
  {
   "cell_type": "markdown",
   "metadata": {},
   "source": [
    "To generate a Google Earth kmz, without downloading data, provide the **`--output`** option with the **`kmz`** argument. In case you also want to get information on the exact product filenames you can enbale the verbose option by adding **`-v`**. The result is shown in **Fig. 1**."
   ]
  },
  {
   "cell_type": "code",
   "execution_count": 5,
   "metadata": {},
   "outputs": [
    {
     "name": "stdout",
     "output_type": "stream",
     "text": [
      "ARIA-tools Version: 1.1.0\n",
      "Traceback (most recent call last):\n",
      "  File \"/Users/buzzanga/Miniconda3/envs/ARIA/bin/ariaDownload.py\", line 7, in <module>\n",
      "    exec(compile(f.read(), __file__, 'exec'))\n",
      "  File \"/Users/buzzanga/Software_InSAR/ARIA-tools_git/tools/bin/ariaDownload.py\", line 293, in <module>\n",
      "    Downloader(inps)()\n",
      "  File \"/Users/buzzanga/Software_InSAR/ARIA-tools_git/tools/bin/ariaDownload.py\", line 239, in __call__\n",
      "    dst    = self._fmt_dst()\n",
      "AttributeError: 'Downloader' object has no attribute '_fmt_dst'\n"
     ]
    }
   ],
   "source": [
    "!ariaDownload.py --track 4 --output kmz"
   ]
  },
  {
   "cell_type": "markdown",
   "metadata": {},
   "source": [
    "<img src=\"./support_docs/track_004.png\" alt=\"track\" width=\"700\">\n",
    "<center><b>Fig. 1</b> Image of products available along Track 4. </center>"
   ]
  },
  {
   "cell_type": "markdown",
   "metadata": {},
   "source": [
    "### Download products"
   ]
  },
  {
   "cell_type": "markdown",
   "metadata": {},
   "source": [
    "To download the products, simply omit the **`--output`** option or specify it with the **`download`** argument. Examples for downloading all data on track 4 include:\n",
    "\n",
    "`ariaDownload.py -t 004`\n",
    "\n",
    "`ariaDownload.py -t 004 -o download`\n",
    "\n",
    "If user/pass are not explicitly passed, the wrapper will look for a `.netrc` in the `$HOME` directory. Alternatively, you can pass them directly as `ariaDownload.py --user <USER> --pass <PASS>`. Otherwise, you will be prompted to enter them.\n",
    "\n",
    "By default, the products will be downloaded into the *./products* folder. You can specify a different location using the **`-w`** option, such as:\n",
    "\n",
    "`ariaDownload.py -t 004 -w /insarHome`\n",
    "\n",
    "<div class=\"alert alert-warning\">\n",
    "<b>Potential download failure:</b>\n",
    "GUNW products are hosted at the NASA ASF DAAC. Downloading them requires a NASA Earthdata URS user login and requires users to add \"GRFN Door (PROD)\" to their URS approved applications\n",
    "</div>"
   ]
  },
  {
   "cell_type": "markdown",
   "metadata": {},
   "source": [
    "## 2. Spatial-temporal subsetting"
   ]
  },
  {
   "cell_type": "markdown",
   "metadata": {},
   "source": [
    "The **`ariaDownload.py`** program has a number of options availble for subsetting the search of products in the spatial and temporal domain, including **bounding box**, **start/end date**, **aquisition geometry**, **temporal baseline**, or **interferogram** options. Below, using the count option for brevity, we demonstrate each of them."
   ]
  },
  {
   "cell_type": "markdown",
   "metadata": {},
   "source": [
    "### Subsetting by Bounding Box"
   ]
  },
  {
   "cell_type": "markdown",
   "metadata": {},
   "source": [
    "Bounding box can either be specified as **SNWE** coordinates (a string with quotation) or by providing a **shapefile** (GeoJSON or ESRI shapefiles) to the **`--bbox`** option. \n",
    "\n",
    "An example based on subsetting using **SNWE** coordinates and the corresponding kmz is shown in **Fig. 2**:"
   ]
  },
  {
   "cell_type": "code",
   "execution_count": 6,
   "metadata": {},
   "outputs": [
    {
     "name": "stdout",
     "output_type": "stream",
     "text": [
      "ARIA-tools Version: 1.1.0\n",
      "\n",
      "Found -- 551 -- products\n"
     ]
    }
   ],
   "source": [
    "!ariaDownload.py --track 4 --bbox \"36.75 37.225 -76.655 -75.928\" -o count"
   ]
  },
  {
   "cell_type": "markdown",
   "metadata": {},
   "source": [
    "<img src=\"./support_docs/crop_hr.png\" alt=\"crop\" width=\"700\">\n",
    "\n",
    "<center><b>Fig. 2</b> Image of products available along within bounding box 36.75S, 37.225N, -76.655W, -75.928E</center>"
   ]
  },
  {
   "cell_type": "markdown",
   "metadata": {},
   "source": [
    "An example based on subsetting using a shape file:"
   ]
  },
  {
   "cell_type": "code",
   "execution_count": 7,
   "metadata": {},
   "outputs": [
    {
     "name": "stdout",
     "output_type": "stream",
     "text": [
      "ARIA-tools Version: 1.1.0\n",
      "\n",
      "Found -- 1092 -- products\n"
     ]
    }
   ],
   "source": [
    "!ariaDownload.py --track 4 --bbox './support_docs/HR_North.shp' -o count"
   ]
  },
  {
   "cell_type": "markdown",
   "metadata": {},
   "source": [
    "<img src=\"./support_docs/crop_shp.png\" alt=\"crop\" width=\"700\">\n",
    "\n",
    "<center><b>Fig. 3</b> Image of products available along within shapefile (blue shading). </center>"
   ]
  },
  {
   "cell_type": "markdown",
   "metadata": {},
   "source": [
    "### Subsetting by start/end date"
   ]
  },
  {
   "cell_type": "markdown",
   "metadata": {},
   "source": [
    "Subsetting in time can be done by specifying a range within which products need to fall. This is controlled using the **`--start YYYYMMDD` ** and **`--end YYYYMMDD`** options. By default the complete observational record is considered."
   ]
  },
  {
   "cell_type": "code",
   "execution_count": 8,
   "metadata": {},
   "outputs": [
    {
     "name": "stdout",
     "output_type": "stream",
     "text": [
      "ARIA-tools Version: 1.1.0\n",
      "\n",
      "Found -- 195 -- products\n"
     ]
    }
   ],
   "source": [
    "!ariaDownload.py --track 4 --bbox \"36.75 37.225 -76.655 -75.928\" -o count --start 20190101 "
   ]
  },
  {
   "cell_type": "code",
   "execution_count": 9,
   "metadata": {},
   "outputs": [
    {
     "name": "stdout",
     "output_type": "stream",
     "text": [
      "ARIA-tools Version: 1.1.0\n",
      "\n",
      "Found -- 12 -- products\n"
     ]
    }
   ],
   "source": [
    "!ariaDownload.py --track 4 --bbox \"36.75 37.225 -76.655 -75.928\" -o count -s 20190101  --end 20190401 --verbose"
   ]
  },
  {
   "cell_type": "markdown",
   "metadata": {},
   "source": [
    "Note the use of the **`--verbose`** option to show the products found."
   ]
  },
  {
   "cell_type": "markdown",
   "metadata": {},
   "source": [
    "### Subsetting based on product temporal baseline"
   ]
  },
  {
   "cell_type": "markdown",
   "metadata": {},
   "source": [
    "The **`--daysless`** and **`--daysmore`** options allow us to subset based on the temporal baseline, i.e. the time length (in days) between the reference and secondary SAR acquisitions of the interferogram. Note that `--daysless 12` and `--daysmore 12` specifies only pairs with temporal baselines smaller and larger than 12 (so not exactly separated by 12) are downloaded, respectively.\n",
    "\n",
    "To select only interferograms products with temporal baselines shorter than 13 days:"
   ]
  },
  {
   "cell_type": "code",
   "execution_count": 10,
   "metadata": {},
   "outputs": [
    {
     "name": "stdout",
     "output_type": "stream",
     "text": [
      "ARIA-tools Version: 1.1.0\n",
      "\n",
      "Found -- 118 -- products\n"
     ]
    }
   ],
   "source": [
    "!ariaDownload.py --track 4 --bbox \"36.75 37.225 -76.655 -75.928\" -o count --daysless 13 -v"
   ]
  },
  {
   "cell_type": "markdown",
   "metadata": {},
   "source": [
    "Select only pairs with temporal baselines, greater than a year:"
   ]
  },
  {
   "cell_type": "code",
   "execution_count": 11,
   "metadata": {},
   "outputs": [
    {
     "name": "stdout",
     "output_type": "stream",
     "text": [
      "ARIA-tools Version: 1.1.0\n",
      "\n",
      "Found -- 177 -- products\n"
     ]
    }
   ],
   "source": [
    "!ariaDownload.py --track 4 --bbox \"36.75 37.225 -76.655 -75.928\" -o count --daysmore 364"
   ]
  },
  {
   "cell_type": "markdown",
   "metadata": {},
   "source": [
    "Select only pairs with moderate temporal baselines between two and six months:"
   ]
  },
  {
   "cell_type": "code",
   "execution_count": 12,
   "metadata": {},
   "outputs": [
    {
     "name": "stdout",
     "output_type": "stream",
     "text": [
      "ARIA-tools Version: 1.1.0\n",
      "\n",
      "Found -- 10 -- products\n"
     ]
    }
   ],
   "source": [
    "!ariaDownload.py --track 4  --bbox \"36.75 37.225 -76.655 -75.928\"  -o count -m 59 -l 181 -v "
   ]
  },
  {
   "cell_type": "markdown",
   "metadata": {},
   "source": [
    "### Subsetting based on interferogram pair"
   ]
  },
  {
   "cell_type": "markdown",
   "metadata": {},
   "source": [
    "To find a specific interferogram combination one can use the **`--ifg YYYYMMDD_YYYYMMDD`** option."
   ]
  },
  {
   "cell_type": "code",
   "execution_count": 13,
   "metadata": {},
   "outputs": [
    {
     "name": "stdout",
     "output_type": "stream",
     "text": [
      "ARIA-tools Version: 1.1.0\n",
      "\n",
      "Found -- 1 -- products\n"
     ]
    }
   ],
   "source": [
    "!ariaDownload.py -b \"36.75 37.225 -76.655 -75.928\"  -o count --ifg \"20161018_20160702\" -v "
   ]
  },
  {
   "cell_type": "markdown",
   "metadata": {},
   "source": [
    "### Testing your URS credentials set-up"
   ]
  },
  {
   "cell_type": "markdown",
   "metadata": {},
   "source": [
    "We will now verify if all is set for you to downlaod products, per instructions at the top of the notebook."
   ]
  },
  {
   "cell_type": "code",
   "execution_count": 14,
   "metadata": {},
   "outputs": [
    {
     "name": "stdout",
     "output_type": "stream",
     "text": [
      "ARIA-tools Version: 1.1.0\n",
      "Wrote -- 1 -- products to: /Users/buzzanga/Software_InSAR/ARIA-tools-docs_git/JupyterDocs/ariaDownload/products\n"
     ]
    }
   ],
   "source": [
    "!ariaDownload.py -b \"36.75 37.225 -76.655 -75.928\"   --ifg \"20161018_20160702\" -v "
   ]
  }
 ],
 "metadata": {
  "kernelspec": {
   "display_name": "Python 3 (ipykernel)",
   "language": "python",
   "name": "python3"
  },
  "language_info": {
   "codemirror_mode": {
    "name": "ipython",
    "version": 3
   },
   "file_extension": ".py",
   "mimetype": "text/x-python",
   "name": "python",
   "nbconvert_exporter": "python",
   "pygments_lexer": "ipython3",
   "version": "3.9.7"
  },
  "latex_envs": {
   "LaTeX_envs_menu_present": true,
   "autoclose": false,
   "autocomplete": false,
   "bibliofile": "biblio.bib",
   "cite_by": "apalike",
   "current_citInitial": 1,
   "eqLabelWithNumbers": true,
   "eqNumInitial": 1,
   "hotkeys": {
    "equation": "Ctrl-E",
    "itemize": "Ctrl-I"
   },
   "labels_anchors": false,
   "latex_user_defs": false,
   "report_style_numbering": false,
   "user_envs_cfg": false
  },
  "toc": {
   "base_numbering": 1,
   "nav_menu": {},
   "number_sections": true,
   "sideBar": true,
   "skip_h1_title": false,
   "title_cell": "Table of Contents",
   "title_sidebar": "Contents",
   "toc_cell": false,
   "toc_position": {},
   "toc_section_display": true,
   "toc_window_display": false
  }
 },
 "nbformat": 4,
 "nbformat_minor": 2
}
